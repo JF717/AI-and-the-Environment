{
 "cells": [
  {
   "cell_type": "markdown",
   "metadata": {},
   "source": [
    "## Linear Regression from scratch"
   ]
  },
  {
   "cell_type": "markdown",
   "metadata": {},
   "source": [
    "Linear regression is a very simple method for machine learning yet is a great starting tool that can be quickly deployed for most needs."
   ]
  },
  {
   "cell_type": "code",
   "execution_count": 1,
   "metadata": {},
   "outputs": [],
   "source": [
    "#first we'll need some packages\n",
    "import pandas as pd\n",
    "import numpy as np\n",
    "import math\n",
    "from matplotlib import pyplot as plt"
   ]
  },
  {
   "cell_type": "code",
   "execution_count": 2,
   "metadata": {},
   "outputs": [
    {
     "data": {
      "text/html": [
       "<div>\n",
       "<style scoped>\n",
       "    .dataframe tbody tr th:only-of-type {\n",
       "        vertical-align: middle;\n",
       "    }\n",
       "\n",
       "    .dataframe tbody tr th {\n",
       "        vertical-align: top;\n",
       "    }\n",
       "\n",
       "    .dataframe thead th {\n",
       "        text-align: right;\n",
       "    }\n",
       "</style>\n",
       "<table border=\"1\" class=\"dataframe\">\n",
       "  <thead>\n",
       "    <tr style=\"text-align: right;\">\n",
       "      <th></th>\n",
       "      <th>X</th>\n",
       "      <th>y</th>\n",
       "    </tr>\n",
       "  </thead>\n",
       "  <tbody>\n",
       "    <tr>\n",
       "      <th>0</th>\n",
       "      <td>5.910131</td>\n",
       "      <td>4.714615</td>\n",
       "    </tr>\n",
       "    <tr>\n",
       "      <th>1</th>\n",
       "      <td>2.500393</td>\n",
       "      <td>2.076238</td>\n",
       "    </tr>\n",
       "    <tr>\n",
       "      <th>2</th>\n",
       "      <td>3.946845</td>\n",
       "      <td>2.548811</td>\n",
       "    </tr>\n",
       "    <tr>\n",
       "      <th>3</th>\n",
       "      <td>7.102233</td>\n",
       "      <td>4.615368</td>\n",
       "    </tr>\n",
       "    <tr>\n",
       "      <th>4</th>\n",
       "      <td>6.168895</td>\n",
       "      <td>3.264107</td>\n",
       "    </tr>\n",
       "  </tbody>\n",
       "</table>\n",
       "</div>"
      ],
      "text/plain": [
       "          X         y\n",
       "0  5.910131  4.714615\n",
       "1  2.500393  2.076238\n",
       "2  3.946845  2.548811\n",
       "3  7.102233  4.615368\n",
       "4  6.168895  3.264107"
      ]
     },
     "execution_count": 2,
     "metadata": {},
     "output_type": "execute_result"
    }
   ],
   "source": [
    "#Lets generate some fake data to play around with\n",
    "np.random.seed(0)\n",
    "X = 2.5 * np.random.randn(100) + 1.5   # Array of 100 values with mean = 1.5, stddev = 2.5\n",
    "res = 0.5 * np.random.randn(100)       # Generate 100 residual terms\n",
    "y = 2 + 0.3 * X + res                  # Actual values of Y\n",
    "\n",
    "# Create pandas dataframe to store our X and y values\n",
    "df = pd.DataFrame(\n",
    "    {'X': X,\n",
    "     'y': y}\n",
    ")\n",
    "\n",
    "# Show the first five rows of our dataframe\n",
    "df.head()"
   ]
  },
  {
   "cell_type": "code",
   "execution_count": 10,
   "metadata": {},
   "outputs": [],
   "source": [
    "#if we remember from our formula for a single linear regression we need the mean of \n",
    "#X and the mean of Y\n",
    "\n",
    "Xmean = np.mean(df.X)\n",
    "Ymean = np.mean(df.y)"
   ]
  },
  {
   "cell_type": "code",
   "execution_count": 11,
   "metadata": {},
   "outputs": [
    {
     "data": {
      "text/plain": [
       "1.6495200388362128"
      ]
     },
     "execution_count": 11,
     "metadata": {},
     "output_type": "execute_result"
    }
   ],
   "source": [
    "Xmean"
   ]
  },
  {
   "cell_type": "code",
   "execution_count": 12,
   "metadata": {},
   "outputs": [
    {
     "data": {
      "text/plain": [
       "2.535862497024783"
      ]
     },
     "execution_count": 12,
     "metadata": {},
     "output_type": "execute_result"
    }
   ],
   "source": [
    "Ymean"
   ]
  },
  {
   "cell_type": "code",
   "execution_count": 28,
   "metadata": {},
   "outputs": [],
   "source": [
    "#The formula for the gradient is the sum((x - Xmean) * (y - Ymean)) / sum(x - Xmean^2)\n",
    "Weight = sum((df.X - Xmean) * (df.y - Ymean)) / sum((df.X - Xmean)**2)"
   ]
  },
  {
   "cell_type": "code",
   "execution_count": 29,
   "metadata": {},
   "outputs": [
    {
     "data": {
      "text/plain": [
       "0.32293968670927636"
      ]
     },
     "execution_count": 29,
     "metadata": {},
     "output_type": "execute_result"
    }
   ],
   "source": [
    "Weight"
   ]
  },
  {
   "cell_type": "code",
   "execution_count": 30,
   "metadata": {},
   "outputs": [],
   "source": [
    "#that was our weights but not our bias which was B= ymean - weight*xmean so\n",
    "Bias = Ymean - Weight * Xmean"
   ]
  },
  {
   "cell_type": "code",
   "execution_count": 32,
   "metadata": {},
   "outputs": [
    {
     "data": {
      "text/plain": [
       "2.003167012462343"
      ]
     },
     "execution_count": 32,
     "metadata": {},
     "output_type": "execute_result"
    }
   ],
   "source": [
    "Bias"
   ]
  },
  {
   "cell_type": "markdown",
   "metadata": {},
   "source": [
    "So we got our weights and our bias which means we have our linear equation y = 0.323x + 2.003. We can now use this to make predictions:"
   ]
  },
  {
   "cell_type": "code",
   "execution_count": 33,
   "metadata": {},
   "outputs": [],
   "source": [
    "#make some predictions\n",
    "Preds = Weight * df.X + Bias"
   ]
  },
  {
   "cell_type": "code",
   "execution_count": 35,
   "metadata": {},
   "outputs": [
    {
     "data": {
      "text/plain": [
       "0     3.911783\n",
       "1     2.810643\n",
       "2     3.277760\n",
       "3     4.296760\n",
       "4     3.995348\n",
       "5     1.698572\n",
       "6     3.254630\n",
       "7     2.365378\n",
       "8     2.404243\n",
       "9     2.819073\n",
       "10    2.603870\n",
       "11    3.661683\n",
       "12    3.102000\n",
       "13    2.585811\n",
       "14    2.845929\n",
       "15    2.756968\n",
       "16    3.693820\n",
       "17    2.321942\n",
       "18    2.740332\n",
       "19    1.798023\n",
       "20    0.426422\n",
       "21    3.015275\n",
       "22    3.185478\n",
       "23    1.888390\n",
       "24    4.320061\n",
       "25    1.313396\n",
       "26    2.524520\n",
       "27    2.336454\n",
       "28    3.725065\n",
       "29    3.673862\n",
       "        ...   \n",
       "70    3.076207\n",
       "71    2.591711\n",
       "72    3.407471\n",
       "73    1.490641\n",
       "74    2.812407\n",
       "75    1.934696\n",
       "76    1.784539\n",
       "77    2.020243\n",
       "78    2.236045\n",
       "79    2.532922\n",
       "80    1.546894\n",
       "81    3.214858\n",
       "82    2.863529\n",
       "83    1.247291\n",
       "84    3.689116\n",
       "85    4.018221\n",
       "86    3.439263\n",
       "87    2.342314\n",
       "88    1.623105\n",
       "89    3.338887\n",
       "90    2.162072\n",
       "91    3.474517\n",
       "92    2.655727\n",
       "93    3.276065\n",
       "94    2.775289\n",
       "95    3.058028\n",
       "96    2.496054\n",
       "97    3.929398\n",
       "98    2.590039\n",
       "99    2.812122\n",
       "Name: X, Length: 100, dtype: float64"
      ]
     },
     "execution_count": 35,
     "metadata": {},
     "output_type": "execute_result"
    }
   ],
   "source": [
    "Preds"
   ]
  },
  {
   "cell_type": "markdown",
   "metadata": {},
   "source": [
    "Having these predictions isn't that helpful unless we know how good they are so now what we need to do is calculate the error."
   ]
  },
  {
   "cell_type": "code",
   "execution_count": 37,
   "metadata": {},
   "outputs": [
    {
     "data": {
      "image/png": "[encoded data removed]",
      "text/plain": [
       "<Figure size 864x432 with 1 Axes>"
      ]
     },
     "metadata": {
      "needs_background": "light"
     },
     "output_type": "display_data"
    }
   ],
   "source": [
    "#lets make a quick plot to see what our predictions look like\n",
    "plt.figure(figsize=(12, 6))\n",
    "plt.plot(X, Preds)     # regression line\n",
    "plt.plot(X, y, 'ro')   # scatter plot showing actual data\n",
    "plt.title('Actual vs Predicted')\n",
    "plt.xlabel('X')\n",
    "plt.ylabel('y')\n",
    "\n",
    "plt.show()"
   ]
  },
  {
   "cell_type": "code",
   "execution_count": 39,
   "metadata": {},
   "outputs": [],
   "source": [
    "#well our line looks pretty good but remember our error is the distance between the true point and that line or using the root mean square error \n",
    "error = sum(((Preds - df.y)**2)/ df.y.count())"
   ]
  },
  {
   "cell_type": "code",
   "execution_count": 41,
   "metadata": {},
   "outputs": [
    {
     "data": {
      "text/plain": [
       "0.26429296354765724"
      ]
     },
     "execution_count": 41,
     "metadata": {},
     "output_type": "execute_result"
    }
   ],
   "source": [
    "error"
   ]
  },
  {
   "cell_type": "markdown",
   "metadata": {},
   "source": [
    "Thats actually pretty low so it's a pretty good model. Not surprising as it was made with fake data but if you got something like this in the real world you would be happy.\n",
    "\n",
    "All this was a bit longwinded so we should be properly pythonic and make everything functions\n",
    "\n",
    "You have all the code now create a nice LinearRegression() function that gives you the weight bias error and if you want makes a nice plot."
   ]
  },
  {
   "cell_type": "code",
   "execution_count": null,
   "metadata": {},
   "outputs": [],
   "source": []
  },
  {
   "cell_type": "code",
   "execution_count": null,
   "metadata": {},
   "outputs": [],
   "source": []
  },
  {
   "cell_type": "code",
   "execution_count": null,
   "metadata": {},
   "outputs": [],
   "source": []
  },
  {
   "cell_type": "code",
   "execution_count": null,
   "metadata": {},
   "outputs": [],
   "source": []
  },
  {
   "cell_type": "code",
   "execution_count": null,
   "metadata": {},
   "outputs": [],
   "source": []
  },
  {
   "cell_type": "markdown",
   "metadata": {},
   "source": [
    "Next step is to write one that works with multiple explanatory variables which means we will need to write a gradient descent algorithm. This is where things get fun. "
   ]
  },
  {
   "cell_type": "markdown",
   "metadata": {},
   "source": [
    "first of all we ware going to need some data included in the practicals is a dataframe called plant heights this has a lot of measured plant heights and \n",
    "other variables that might impact them, we are going to use this to make a regression that predicts plant height"
   ]
  },
  {
   "cell_type": "code",
   "execution_count": 43,
   "metadata": {},
   "outputs": [],
   "source": [
    "#import the data\n",
    "Plants = pd.read_csv(\"Plant_height.csv\")"
   ]
  },
  {
   "cell_type": "code",
   "execution_count": 46,
   "metadata": {},
   "outputs": [
    {
     "data": {
      "text/plain": [
       "(178, 35)"
      ]
     },
     "execution_count": 46,
     "metadata": {},
     "output_type": "execute_result"
    }
   ],
   "source": [
    "Plants.shape"
   ]
  },
  {
   "cell_type": "code",
   "execution_count": 450,
   "metadata": {},
   "outputs": [
    {
     "data": {
      "text/plain": [
       "<bound method NDFrame.head of 0      28.000\n",
       "1      26.600\n",
       "2       0.300\n",
       "3       1.600\n",
       "4       0.200\n",
       "5       1.700\n",
       "6       0.500\n",
       "7      10.000\n",
       "8      40.000\n",
       "9       0.500\n",
       "10      0.550\n",
       "11     32.000\n",
       "12      5.000\n",
       "13      7.000\n",
       "14     12.000\n",
       "15      1.680\n",
       "16      0.700\n",
       "17      4.000\n",
       "18      0.600\n",
       "19      1.600\n",
       "20     32.000\n",
       "21     61.000\n",
       "22     14.800\n",
       "23      1.000\n",
       "24     15.000\n",
       "25      7.000\n",
       "26     20.000\n",
       "27      7.000\n",
       "28      2.900\n",
       "29      9.670\n",
       "        ...  \n",
       "148     1.500\n",
       "149     1.710\n",
       "150     0.300\n",
       "151     3.000\n",
       "152     8.000\n",
       "153     2.900\n",
       "154    13.000\n",
       "155     0.200\n",
       "156     1.000\n",
       "157    39.600\n",
       "158     0.158\n",
       "159     0.500\n",
       "160     9.000\n",
       "161     3.000\n",
       "162     1.050\n",
       "163     0.500\n",
       "164    11.000\n",
       "165    39.000\n",
       "166     1.940\n",
       "167    12.400\n",
       "168     1.500\n",
       "169     1.000\n",
       "170     0.750\n",
       "171     4.000\n",
       "172    15.000\n",
       "173     0.550\n",
       "174     6.000\n",
       "175     0.500\n",
       "176    15.000\n",
       "177     0.246\n",
       "Name: height, Length: 178, dtype: float64>"
      ]
     },
     "execution_count": 450,
     "metadata": {},
     "output_type": "execute_result"
    }
   ],
   "source": [
    "#This is a pretty big dataset with 35 variables including\n",
    "Plants['height'].head"
   ]
  },
  {
   "cell_type": "code",
   "execution_count": 411,
   "metadata": {},
   "outputs": [],
   "source": [
    "#We're going to see how height varies with altitude, temperature and rainfall the first thing we will need ot do is make an array of weights\n",
    "X = np.array([np.ones(len(Plants['loght'])),Plants['alt'],Plants['rain'],Plants['temp']]).T"
   ]
  },
  {
   "cell_type": "code",
   "execution_count": 412,
   "metadata": {},
   "outputs": [],
   "source": [
    "#The Y variable is plant heights\n",
    "Y = np.array(Plants['height'])"
   ]
  },
  {
   "cell_type": "code",
   "execution_count": 413,
   "metadata": {},
   "outputs": [],
   "source": [
    "#we initialise our starting weights / gradients to 0 initially\n",
    "Weights = [0.,0.,0.,0.]"
   ]
  },
  {
   "cell_type": "code",
   "execution_count": 432,
   "metadata": {},
   "outputs": [],
   "source": [
    "#now we have to set our first hyper parameter the learning rate or alpha\n",
    "alpha = 0.0000001"
   ]
  },
  {
   "cell_type": "code",
   "execution_count": 415,
   "metadata": {},
   "outputs": [],
   "source": [
    "#we should first create a function that calculates the cost of the model we have made\n",
    "def cost_function(X, Y, Weights):\n",
    "    m = len(Y)\n",
    "    J = np.sum((X.dot(Weights) - Y) ** 2)/(2 * m)\n",
    "    return J"
   ]
  },
  {
   "cell_type": "code",
   "execution_count": 416,
   "metadata": {},
   "outputs": [
    {
     "data": {
      "text/plain": [
       "103.39257096143271"
      ]
     },
     "execution_count": 416,
     "metadata": {},
     "output_type": "execute_result"
    }
   ],
   "source": [
    "cost_function(X,Y,Weights)"
   ]
  },
  {
   "cell_type": "code",
   "execution_count": 418,
   "metadata": {},
   "outputs": [],
   "source": [
    "#this is pretty high so we need to reduce this step by step using gradient descent this will need it's own function\n",
    "#the iterations is just how many times we want to improve the weights by\n",
    "def gradient_descent(X, Y, Weights, alpha, iterations):\n",
    "    #for nicety we should maintain a record of the cost at each iteration\n",
    "    cost_history = [0] * iterations\n",
    "    n = len(Y)\n",
    "    \n",
    "    for iteration in range(iterations):\n",
    "        # #calculate the current predicted y values\n",
    "        h = X.dot(Weights)\n",
    "        # Difference b/w predicted and Actual Y\n",
    "        loss = (h - Y) \n",
    "        # Gradient Calculation the loss times the X values * 1/n\n",
    "        gradient = X.T.dot(loss) / n\n",
    "        # Changing Values of our weights using Gradient times by a learning rate\n",
    "        Weights -= alpha * gradient\n",
    "        # New Cost Value\n",
    "        cost = cost_function(X, Y, Weights)\n",
    "        cost_history[iteration] = cost\n",
    "        \n",
    "    return Weights, cost_history"
   ]
  },
  {
   "cell_type": "code",
   "execution_count": 433,
   "metadata": {},
   "outputs": [],
   "source": [
    "NewWeights, CH = gradient_descent(X,Y,Weights,alpha,1000)"
   ]
  },
  {
   "cell_type": "code",
   "execution_count": 434,
   "metadata": {},
   "outputs": [
    {
     "data": {
      "text/plain": [
       "array([6.99253214e-05, 1.83159599e-03, 5.58355166e-03, 1.08706138e-03])"
      ]
     },
     "execution_count": 434,
     "metadata": {},
     "output_type": "execute_result"
    }
   ],
   "source": [
    "NewWeights"
   ]
  },
  {
   "cell_type": "code",
   "execution_count": 425,
   "metadata": {},
   "outputs": [
    {
     "data": {
      "text/plain": [
       "80.47226805954547"
      ]
     },
     "execution_count": 425,
     "metadata": {},
     "output_type": "execute_result"
    }
   ],
   "source": [
    "CH[0]"
   ]
  },
  {
   "cell_type": "code",
   "execution_count": 426,
   "metadata": {},
   "outputs": [
    {
     "data": {
      "text/plain": [
       "55.66279953802289"
      ]
     },
     "execution_count": 426,
     "metadata": {},
     "output_type": "execute_result"
    }
   ],
   "source": [
    "CH[len(CH)-1]"
   ]
  },
  {
   "cell_type": "code",
   "execution_count": null,
   "metadata": {},
   "outputs": [],
   "source": [
    "#well we reduced our cost pretty well but got tiny tiny weights so lets run the algorithm for a bit"
   ]
  },
  {
   "cell_type": "code",
   "execution_count": 435,
   "metadata": {},
   "outputs": [],
   "source": [
    "NewWeights, CH = gradient_descent(X,Y,Weights,alpha,100000)"
   ]
  },
  {
   "cell_type": "code",
   "execution_count": 436,
   "metadata": {},
   "outputs": [
    {
     "data": {
      "text/plain": [
       "array([0.00556139, 0.00175467, 0.00492319, 0.06973003])"
      ]
     },
     "execution_count": 436,
     "metadata": {},
     "output_type": "execute_result"
    }
   ],
   "source": [
    "NewWeights"
   ]
  },
  {
   "cell_type": "code",
   "execution_count": 451,
   "metadata": {},
   "outputs": [
    {
     "data": {
      "text/plain": [
       "(80.47226805954547, 55.155737010436965)"
      ]
     },
     "execution_count": 451,
     "metadata": {},
     "output_type": "execute_result"
    }
   ],
   "source": [
    "CH[0],CH[len(CH)-1]"
   ]
  },
  {
   "cell_type": "markdown",
   "metadata": {},
   "source": [
    "Those are still some tiny weights but it doesn't seem to be improving much more so looks like those will do, In reality what that means is that those variables just don't have much of a relationship with each other. Lets take a look at the error and the r^2 of the model."
   ]
  },
  {
   "cell_type": "code",
   "execution_count": 453,
   "metadata": {},
   "outputs": [],
   "source": [
    "#we can calculate the root mean squared error of the model here\n",
    "rtmeansqe = np.sqrt(sum((Y - X.dot(NewWeights))**2)/len(Y))"
   ]
  },
  {
   "cell_type": "code",
   "execution_count": 455,
   "metadata": {},
   "outputs": [
    {
     "data": {
      "text/plain": [
       "10.502926926379802"
      ]
     },
     "execution_count": 455,
     "metadata": {},
     "output_type": "execute_result"
    }
   ],
   "source": [
    "rtmeansqe"
   ]
  },
  {
   "cell_type": "code",
   "execution_count": 456,
   "metadata": {},
   "outputs": [],
   "source": [
    "#we can also calculate the r^2 which is a measure of how much our model is explaining the prediction\n",
    "def r2_score(Y, Y_pred):\n",
    "    mean_y = np.mean(Y)\n",
    "    ss_tot = sum((Y - mean_y) ** 2)\n",
    "    ss_res = sum((Y - Y_pred) ** 2)\n",
    "    r2 = 1 - (ss_res / ss_tot)\n",
    "    return r2\n",
    "\n"
   ]
  },
  {
   "cell_type": "code",
   "execution_count": 458,
   "metadata": {},
   "outputs": [
    {
     "data": {
      "text/plain": [
       "0.1342351436063759"
      ]
     },
     "execution_count": 458,
     "metadata": {},
     "output_type": "execute_result"
    }
   ],
   "source": [
    "r2_score(Y,X.dot(NewWeights))"
   ]
  },
  {
   "cell_type": "markdown",
   "metadata": {},
   "source": [
    "Well essentially what this means is our model is explaining 13% of the variation in plant heights which is really not very good. This is where it is important to understand your predictor and your features and maybe begin to do some feature engineering to get a better model.\n",
    "\n",
    "Lets take a look at the data shall we."
   ]
  },
  {
   "cell_type": "code",
   "execution_count": 438,
   "metadata": {},
   "outputs": [
    {
     "data": {
      "text/plain": [
       "(array([107.,  22.,  17.,   9.,  12.,   6.,   4.,   0.,   0.,   1.]),\n",
       " array([3.220000e-02, 6.128980e+00, 1.222576e+01, 1.832254e+01,\n",
       "        2.441932e+01, 3.051610e+01, 3.661288e+01, 4.270966e+01,\n",
       "        4.880644e+01, 5.490322e+01, 6.100000e+01]),\n",
       " <a list of 10 Patch objects>)"
      ]
     },
     "execution_count": 438,
     "metadata": {},
     "output_type": "execute_result"
    },
    {
     "data": {
      "image/png": "[encoded data removed]",
      "text/plain": [
       "<Figure size 432x288 with 1 Axes>"
      ]
     },
     "metadata": {
      "needs_background": "light"
     },
     "output_type": "display_data"
    }
   ],
   "source": [
    "plt.hist(Y)"
   ]
  },
  {
   "cell_type": "markdown",
   "metadata": {},
   "source": [
    "Oh well that data doesn't quitel look like it will fit well to a straight line does it. Maybe our linear regression isn't so good on that. Fortunately the dataset comes with a logged plant height"
   ]
  },
  {
   "cell_type": "code",
   "execution_count": 440,
   "metadata": {},
   "outputs": [
    {
     "data": {
      "text/plain": [
       "(array([ 4.,  6., 16., 18., 13., 25., 25., 25., 28., 18.]),\n",
       " array([-1.49214413, -1.16439673, -0.83664934, -0.50890194, -0.18115454,\n",
       "         0.14659285,  0.47434025,  0.80208765,  1.12983504,  1.45758244,\n",
       "         1.78532983]),\n",
       " <a list of 10 Patch objects>)"
      ]
     },
     "execution_count": 440,
     "metadata": {},
     "output_type": "execute_result"
    },
    {
     "data": {
      "image/png": "[encoded data removed]",
      "text/plain": [
       "<Figure size 432x288 with 1 Axes>"
      ]
     },
     "metadata": {
      "needs_background": "light"
     },
     "output_type": "display_data"
    }
   ],
   "source": [
    "plt.hist(Plants['loght'])"
   ]
  },
  {
   "cell_type": "markdown",
   "metadata": {},
   "source": [
    "That looks a little beter how about our various explanatory variables?"
   ]
  },
  {
   "cell_type": "code",
   "execution_count": 447,
   "metadata": {},
   "outputs": [
    {
     "data": {
      "text/plain": [
       "(array([98., 32., 24., 11.,  3.,  6.,  0.,  2.,  0.,  2.]),\n",
       " array([ -71. ,  232.7,  536.4,  840.1, 1143.8, 1447.5, 1751.2, 2054.9,\n",
       "        2358.6, 2662.3, 2966. ]),\n",
       " <a list of 10 Patch objects>)"
      ]
     },
     "execution_count": 447,
     "metadata": {},
     "output_type": "execute_result"
    },
    {
     "data": {
      "image/png": "[encoded data removed]",
      "text/plain": [
       "<Figure size 432x288 with 1 Axes>"
      ]
     },
     "metadata": {
      "needs_background": "light"
     },
     "output_type": "display_data"
    }
   ],
   "source": [
    "plt.hist(X[:,1])"
   ]
  },
  {
   "cell_type": "code",
   "execution_count": 449,
   "metadata": {},
   "outputs": [
    {
     "data": {
      "text/plain": [
       "(array([33., 39., 29., 18., 13.,  8., 22.,  9.,  5.,  2.]),\n",
       " array([  73. ,  464.8,  856.6, 1248.4, 1640.2, 2032. , 2423.8, 2815.6,\n",
       "        3207.4, 3599.2, 3991. ]),\n",
       " <a list of 10 Patch objects>)"
      ]
     },
     "execution_count": 449,
     "metadata": {},
     "output_type": "execute_result"
    },
    {
     "data": {
      "image/png": "[encoded data removed]",
      "text/plain": [
       "<Figure size 432x288 with 1 Axes>"
      ]
     },
     "metadata": {
      "needs_background": "light"
     },
     "output_type": "display_data"
    }
   ],
   "source": [
    "plt.hist(X[:,2])"
   ]
  },
  {
   "cell_type": "code",
   "execution_count": 448,
   "metadata": {},
   "outputs": [
    {
     "data": {
      "text/plain": [
       "(array([ 2.,  5.,  6., 10., 15., 14., 21., 29., 23., 53.]),\n",
       " array([-11.1 ,  -7.22,  -3.34,   0.54,   4.42,   8.3 ,  12.18,  16.06,\n",
       "         19.94,  23.82,  27.7 ]),\n",
       " <a list of 10 Patch objects>)"
      ]
     },
     "execution_count": 448,
     "metadata": {},
     "output_type": "execute_result"
    },
    {
     "data": {
      "image/png": "[encoded data removed]",
      "text/plain": [
       "<Figure size 432x288 with 1 Axes>"
      ]
     },
     "metadata": {
      "needs_background": "light"
     },
     "output_type": "display_data"
    }
   ],
   "source": [
    "plt.hist(X[:,3])"
   ]
  },
  {
   "cell_type": "markdown",
   "metadata": {},
   "source": [
    "None of those look particularly helpful to me so its time for you to start exploring. There are 38 variables in the dataset create your own linear regressions with different combinations of variables."
   ]
  },
  {
   "cell_type": "code",
   "execution_count": null,
   "metadata": {},
   "outputs": [],
   "source": []
  },
  {
   "cell_type": "code",
   "execution_count": null,
   "metadata": {},
   "outputs": [],
   "source": []
  },
  {
   "cell_type": "code",
   "execution_count": null,
   "metadata": {},
   "outputs": [],
   "source": []
  },
  {
   "cell_type": "code",
   "execution_count": null,
   "metadata": {},
   "outputs": [],
   "source": []
  },
  {
   "cell_type": "code",
   "execution_count": null,
   "metadata": {},
   "outputs": [],
   "source": []
  },
  {
   "cell_type": "code",
   "execution_count": null,
   "metadata": {},
   "outputs": [],
   "source": []
  },
  {
   "cell_type": "code",
   "execution_count": null,
   "metadata": {},
   "outputs": [],
   "source": []
  }
 ],
 "metadata": {
  "kernelspec": {
   "display_name": "Python 3",
   "language": "python",
   "name": "python3"
  },
  "language_info": {
   "codemirror_mode": {
    "name": "ipython",
    "version": 3
   },
   "file_extension": ".py",
   "mimetype": "text/x-python",
   "name": "python",
   "nbconvert_exporter": "python",
   "pygments_lexer": "ipython3",
   "version": "3.7.1"
  }
 },
 "nbformat": 4,
 "nbformat_minor": 2
}
