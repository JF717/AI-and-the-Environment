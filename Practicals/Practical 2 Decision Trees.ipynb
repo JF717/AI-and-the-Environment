{
 "cells": [
  {
   "cell_type": "markdown",
   "metadata": {},
   "source": [
    "## Clasification and Regression Trees from scratch"
   ]
  },
  {
   "cell_type": "markdown",
   "metadata": {},
   "source": [
    "Here we will build a classic decision tree from scratch\n",
    "\n",
    "This requires first being able to split data using the GINI index from before:"
   ]
  },
  {
   "cell_type": "code",
   "execution_count": 2,
   "metadata": {},
   "outputs": [],
   "source": [
    "#First our standard packages\n",
    "import pandas as pd\n",
    "import numpy as np\n",
    "import math\n",
    "import random\n",
    "from matplotlib import pyplot as plt\n",
    "from mpl_toolkits.mplot3d import Axes3D"
   ]
  },
  {
   "cell_type": "code",
   "execution_count": 77,
   "metadata": {},
   "outputs": [],
   "source": [
    "#lets first create our data from the lecture\n",
    "G1 = [\"Group1\"] * 100"
   ]
  },
  {
   "cell_type": "code",
   "execution_count": 82,
   "metadata": {},
   "outputs": [
    {
     "data": {
      "text/plain": [
       "('Group1', 100)"
      ]
     },
     "execution_count": 82,
     "metadata": {},
     "output_type": "execute_result"
    }
   ],
   "source": [
    "G1[0], len(G1)"
   ]
  },
  {
   "cell_type": "code",
   "execution_count": 76,
   "metadata": {},
   "outputs": [],
   "source": [
    "G2 = ['Group2'] * 100"
   ]
  },
  {
   "cell_type": "code",
   "execution_count": 83,
   "metadata": {},
   "outputs": [
    {
     "data": {
      "text/plain": [
       "('Group2', 100)"
      ]
     },
     "execution_count": 83,
     "metadata": {},
     "output_type": "execute_result"
    }
   ],
   "source": [
    "G2[0], len(G2)"
   ]
  },
  {
   "cell_type": "code",
   "execution_count": 14,
   "metadata": {},
   "outputs": [],
   "source": [
    "#these are just arays of which group they are in so maybe we should make it a real dataset"
   ]
  },
  {
   "cell_type": "code",
   "execution_count": 451,
   "metadata": {},
   "outputs": [],
   "source": [
    "X1 = np.array([random.gauss(-5,1) for _ in range(100)])"
   ]
  },
  {
   "cell_type": "code",
   "execution_count": 452,
   "metadata": {},
   "outputs": [],
   "source": [
    "Y1 = np.array([random.gauss(0,5) for _ in range(100)])"
   ]
  },
  {
   "cell_type": "code",
   "execution_count": 453,
   "metadata": {},
   "outputs": [],
   "source": [
    "X2 = np.array([random.gauss(5,1) for _ in range(100)])"
   ]
  },
  {
   "cell_type": "code",
   "execution_count": 454,
   "metadata": {},
   "outputs": [],
   "source": [
    "Y2 = np.array([random.gauss(0,5) for _ in range(100)])"
   ]
  },
  {
   "cell_type": "code",
   "execution_count": 35,
   "metadata": {},
   "outputs": [
    {
     "data": {
      "text/plain": [
       "<matplotlib.collections.PathCollection at 0x1e0fff04160>"
      ]
     },
     "execution_count": 35,
     "metadata": {},
     "output_type": "execute_result"
    },
    {
     "data": {
      "image/png": "[encoded data removed]",
      "text/plain": [
       "<Figure size 432x288 with 1 Axes>"
      ]
     },
     "metadata": {
      "needs_background": "light"
     },
     "output_type": "display_data"
    }
   ],
   "source": [
    "plt.scatter(X1,Y1)"
   ]
  },
  {
   "cell_type": "code",
   "execution_count": 37,
   "metadata": {},
   "outputs": [
    {
     "data": {
      "text/plain": [
       "<matplotlib.collections.PathCollection at 0x1e080410c88>"
      ]
     },
     "execution_count": 37,
     "metadata": {},
     "output_type": "execute_result"
    },
    {
     "data": {
      "image/png": "[encoded data removed]",
      "text/plain": [
       "<Figure size 432x288 with 1 Axes>"
      ]
     },
     "metadata": {
      "needs_background": "light"
     },
     "output_type": "display_data"
    }
   ],
   "source": [
    "plt.scatter(X2,Y2)"
   ]
  },
  {
   "cell_type": "code",
   "execution_count": 455,
   "metadata": {},
   "outputs": [],
   "source": [
    "Group1 = pd.DataFrame({'X' : X1, 'Y' : Y1, 'Group' : G1})"
   ]
  },
  {
   "cell_type": "code",
   "execution_count": 85,
   "metadata": {},
   "outputs": [
    {
     "data": {
      "text/html": [
       "<div>\n",
       "<style scoped>\n",
       "    .dataframe tbody tr th:only-of-type {\n",
       "        vertical-align: middle;\n",
       "    }\n",
       "\n",
       "    .dataframe tbody tr th {\n",
       "        vertical-align: top;\n",
       "    }\n",
       "\n",
       "    .dataframe thead th {\n",
       "        text-align: right;\n",
       "    }\n",
       "</style>\n",
       "<table border=\"1\" class=\"dataframe\">\n",
       "  <thead>\n",
       "    <tr style=\"text-align: right;\">\n",
       "      <th></th>\n",
       "      <th>X</th>\n",
       "      <th>Y</th>\n",
       "      <th>Group</th>\n",
       "    </tr>\n",
       "  </thead>\n",
       "  <tbody>\n",
       "    <tr>\n",
       "      <th>0</th>\n",
       "      <td>-4.560652</td>\n",
       "      <td>5.031129</td>\n",
       "      <td>Group1</td>\n",
       "    </tr>\n",
       "    <tr>\n",
       "      <th>1</th>\n",
       "      <td>-5.056226</td>\n",
       "      <td>1.869162</td>\n",
       "      <td>Group1</td>\n",
       "    </tr>\n",
       "    <tr>\n",
       "      <th>2</th>\n",
       "      <td>-4.901097</td>\n",
       "      <td>4.658226</td>\n",
       "      <td>Group1</td>\n",
       "    </tr>\n",
       "    <tr>\n",
       "      <th>3</th>\n",
       "      <td>-6.727258</td>\n",
       "      <td>-4.607674</td>\n",
       "      <td>Group1</td>\n",
       "    </tr>\n",
       "    <tr>\n",
       "      <th>4</th>\n",
       "      <td>-3.602779</td>\n",
       "      <td>1.928465</td>\n",
       "      <td>Group1</td>\n",
       "    </tr>\n",
       "  </tbody>\n",
       "</table>\n",
       "</div>"
      ],
      "text/plain": [
       "          X         Y   Group\n",
       "0 -4.560652  5.031129  Group1\n",
       "1 -5.056226  1.869162  Group1\n",
       "2 -4.901097  4.658226  Group1\n",
       "3 -6.727258 -4.607674  Group1\n",
       "4 -3.602779  1.928465  Group1"
      ]
     },
     "execution_count": 85,
     "metadata": {},
     "output_type": "execute_result"
    }
   ],
   "source": [
    "Group1.head()"
   ]
  },
  {
   "cell_type": "code",
   "execution_count": 456,
   "metadata": {},
   "outputs": [],
   "source": [
    "Group2 = pd.DataFrame({'X' : X2, 'Y' : Y2, 'Group' : G2})"
   ]
  },
  {
   "cell_type": "code",
   "execution_count": 87,
   "metadata": {},
   "outputs": [
    {
     "data": {
      "text/html": [
       "<div>\n",
       "<style scoped>\n",
       "    .dataframe tbody tr th:only-of-type {\n",
       "        vertical-align: middle;\n",
       "    }\n",
       "\n",
       "    .dataframe tbody tr th {\n",
       "        vertical-align: top;\n",
       "    }\n",
       "\n",
       "    .dataframe thead th {\n",
       "        text-align: right;\n",
       "    }\n",
       "</style>\n",
       "<table border=\"1\" class=\"dataframe\">\n",
       "  <thead>\n",
       "    <tr style=\"text-align: right;\">\n",
       "      <th></th>\n",
       "      <th>X</th>\n",
       "      <th>Y</th>\n",
       "      <th>Group</th>\n",
       "    </tr>\n",
       "  </thead>\n",
       "  <tbody>\n",
       "    <tr>\n",
       "      <th>0</th>\n",
       "      <td>4.233641</td>\n",
       "      <td>4.194389</td>\n",
       "      <td>Group2</td>\n",
       "    </tr>\n",
       "    <tr>\n",
       "      <th>1</th>\n",
       "      <td>5.056342</td>\n",
       "      <td>7.392928</td>\n",
       "      <td>Group2</td>\n",
       "    </tr>\n",
       "    <tr>\n",
       "      <th>2</th>\n",
       "      <td>4.434529</td>\n",
       "      <td>1.361793</td>\n",
       "      <td>Group2</td>\n",
       "    </tr>\n",
       "    <tr>\n",
       "      <th>3</th>\n",
       "      <td>4.829293</td>\n",
       "      <td>-8.104180</td>\n",
       "      <td>Group2</td>\n",
       "    </tr>\n",
       "    <tr>\n",
       "      <th>4</th>\n",
       "      <td>4.379224</td>\n",
       "      <td>-6.523490</td>\n",
       "      <td>Group2</td>\n",
       "    </tr>\n",
       "  </tbody>\n",
       "</table>\n",
       "</div>"
      ],
      "text/plain": [
       "          X         Y   Group\n",
       "0  4.233641  4.194389  Group2\n",
       "1  5.056342  7.392928  Group2\n",
       "2  4.434529  1.361793  Group2\n",
       "3  4.829293 -8.104180  Group2\n",
       "4  4.379224 -6.523490  Group2"
      ]
     },
     "execution_count": 87,
     "metadata": {},
     "output_type": "execute_result"
    }
   ],
   "source": [
    "Group2.head()"
   ]
  },
  {
   "cell_type": "code",
   "execution_count": 457,
   "metadata": {},
   "outputs": [],
   "source": [
    "#ok now we have two sets of data we should be able to understand splitting more clearly lets make the one for visualisation\n",
    "FullDat = pd.concat([Group1,Group2])"
   ]
  },
  {
   "cell_type": "code",
   "execution_count": 95,
   "metadata": {},
   "outputs": [
    {
     "data": {
      "text/plain": [
       "<matplotlib.collections.PathCollection at 0x1e08302fd30>"
      ]
     },
     "execution_count": 95,
     "metadata": {},
     "output_type": "execute_result"
    },
    {
     "data": {
      "image/png": "[encoded data removed]",
      "text/plain": [
       "<Figure size 432x288 with 1 Axes>"
      ]
     },
     "metadata": {
      "needs_background": "light"
     },
     "output_type": "display_data"
    }
   ],
   "source": [
    "#Here we can see very clearly our different groups with the data\n",
    "plt.scatter(FullDat['X'],FullDat['Y'])"
   ]
  },
  {
   "cell_type": "markdown",
   "metadata": {},
   "source": [
    "So we want to put a split at 0 on the X axis to get a perfect split from what we see but how do we go about splitting them and then testing the GINI score?"
   ]
  },
  {
   "cell_type": "code",
   "execution_count": 98,
   "metadata": {},
   "outputs": [],
   "source": [
    "#While this is redundant as we actually have a split lets do it manually at a point\n",
    "SplitLeft = FullDat[FullDat['X'] < 0]"
   ]
  },
  {
   "cell_type": "code",
   "execution_count": 101,
   "metadata": {},
   "outputs": [
    {
     "data": {
      "text/html": [
       "<div>\n",
       "<style scoped>\n",
       "    .dataframe tbody tr th:only-of-type {\n",
       "        vertical-align: middle;\n",
       "    }\n",
       "\n",
       "    .dataframe tbody tr th {\n",
       "        vertical-align: top;\n",
       "    }\n",
       "\n",
       "    .dataframe thead th {\n",
       "        text-align: right;\n",
       "    }\n",
       "</style>\n",
       "<table border=\"1\" class=\"dataframe\">\n",
       "  <thead>\n",
       "    <tr style=\"text-align: right;\">\n",
       "      <th></th>\n",
       "      <th>X</th>\n",
       "      <th>Y</th>\n",
       "      <th>Group</th>\n",
       "    </tr>\n",
       "  </thead>\n",
       "  <tbody>\n",
       "    <tr>\n",
       "      <th>0</th>\n",
       "      <td>-4.560652</td>\n",
       "      <td>5.031129</td>\n",
       "      <td>Group1</td>\n",
       "    </tr>\n",
       "    <tr>\n",
       "      <th>1</th>\n",
       "      <td>-5.056226</td>\n",
       "      <td>1.869162</td>\n",
       "      <td>Group1</td>\n",
       "    </tr>\n",
       "    <tr>\n",
       "      <th>2</th>\n",
       "      <td>-4.901097</td>\n",
       "      <td>4.658226</td>\n",
       "      <td>Group1</td>\n",
       "    </tr>\n",
       "    <tr>\n",
       "      <th>3</th>\n",
       "      <td>-6.727258</td>\n",
       "      <td>-4.607674</td>\n",
       "      <td>Group1</td>\n",
       "    </tr>\n",
       "    <tr>\n",
       "      <th>4</th>\n",
       "      <td>-3.602779</td>\n",
       "      <td>1.928465</td>\n",
       "      <td>Group1</td>\n",
       "    </tr>\n",
       "  </tbody>\n",
       "</table>\n",
       "</div>"
      ],
      "text/plain": [
       "          X         Y   Group\n",
       "0 -4.560652  5.031129  Group1\n",
       "1 -5.056226  1.869162  Group1\n",
       "2 -4.901097  4.658226  Group1\n",
       "3 -6.727258 -4.607674  Group1\n",
       "4 -3.602779  1.928465  Group1"
      ]
     },
     "execution_count": 101,
     "metadata": {},
     "output_type": "execute_result"
    }
   ],
   "source": [
    "SplitLeft.head()"
   ]
  },
  {
   "cell_type": "code",
   "execution_count": 102,
   "metadata": {},
   "outputs": [],
   "source": [
    "SplitRight = FullDat[FullDat['X'] > 0]"
   ]
  },
  {
   "cell_type": "code",
   "execution_count": 103,
   "metadata": {},
   "outputs": [
    {
     "data": {
      "text/html": [
       "<div>\n",
       "<style scoped>\n",
       "    .dataframe tbody tr th:only-of-type {\n",
       "        vertical-align: middle;\n",
       "    }\n",
       "\n",
       "    .dataframe tbody tr th {\n",
       "        vertical-align: top;\n",
       "    }\n",
       "\n",
       "    .dataframe thead th {\n",
       "        text-align: right;\n",
       "    }\n",
       "</style>\n",
       "<table border=\"1\" class=\"dataframe\">\n",
       "  <thead>\n",
       "    <tr style=\"text-align: right;\">\n",
       "      <th></th>\n",
       "      <th>X</th>\n",
       "      <th>Y</th>\n",
       "      <th>Group</th>\n",
       "    </tr>\n",
       "  </thead>\n",
       "  <tbody>\n",
       "    <tr>\n",
       "      <th>0</th>\n",
       "      <td>4.233641</td>\n",
       "      <td>4.194389</td>\n",
       "      <td>Group2</td>\n",
       "    </tr>\n",
       "    <tr>\n",
       "      <th>1</th>\n",
       "      <td>5.056342</td>\n",
       "      <td>7.392928</td>\n",
       "      <td>Group2</td>\n",
       "    </tr>\n",
       "    <tr>\n",
       "      <th>2</th>\n",
       "      <td>4.434529</td>\n",
       "      <td>1.361793</td>\n",
       "      <td>Group2</td>\n",
       "    </tr>\n",
       "    <tr>\n",
       "      <th>3</th>\n",
       "      <td>4.829293</td>\n",
       "      <td>-8.104180</td>\n",
       "      <td>Group2</td>\n",
       "    </tr>\n",
       "    <tr>\n",
       "      <th>4</th>\n",
       "      <td>4.379224</td>\n",
       "      <td>-6.523490</td>\n",
       "      <td>Group2</td>\n",
       "    </tr>\n",
       "  </tbody>\n",
       "</table>\n",
       "</div>"
      ],
      "text/plain": [
       "          X         Y   Group\n",
       "0  4.233641  4.194389  Group2\n",
       "1  5.056342  7.392928  Group2\n",
       "2  4.434529  1.361793  Group2\n",
       "3  4.829293 -8.104180  Group2\n",
       "4  4.379224 -6.523490  Group2"
      ]
     },
     "execution_count": 103,
     "metadata": {},
     "output_type": "execute_result"
    }
   ],
   "source": [
    "SplitRight.head()"
   ]
  },
  {
   "cell_type": "code",
   "execution_count": 131,
   "metadata": {},
   "outputs": [],
   "source": [
    "#now we have our split we need to work out the GINI score, which is based on the proportion of correct/total and missclasifications\n",
    "LeftCounts = SplitLeft['Group'].value_counts().index.tolist(),SplitLeft['Group'].value_counts().tolist()\n"
   ]
  },
  {
   "cell_type": "code",
   "execution_count": 168,
   "metadata": {},
   "outputs": [
    {
     "data": {
      "text/plain": [
       "[['Group1'], [100]]"
      ]
     },
     "execution_count": 168,
     "metadata": {},
     "output_type": "execute_result"
    }
   ],
   "source": [
    "LeftCounts"
   ]
  },
  {
   "cell_type": "code",
   "execution_count": 133,
   "metadata": {},
   "outputs": [],
   "source": [
    "RightCounts = SplitRight['Group'].value_counts().index.tolist(),SplitRight['Group'].value_counts().tolist()"
   ]
  },
  {
   "cell_type": "code",
   "execution_count": 138,
   "metadata": {},
   "outputs": [
    {
     "data": {
      "text/plain": [
       "(['Group2'], [100])"
      ]
     },
     "execution_count": 138,
     "metadata": {},
     "output_type": "execute_result"
    }
   ],
   "source": [
    "RightCounts"
   ]
  },
  {
   "cell_type": "code",
   "execution_count": 140,
   "metadata": {},
   "outputs": [],
   "source": [
    "#Ok now we have our proportions we need to work out our gini which is 1-Sum(proportion^2)\n",
    "G1PropCorrect = LeftCounts[1][0] / LeftCounts[1][0]\n",
    "G1PropIncorrect = 0/LeftCounts[1][0] \n"
   ]
  },
  {
   "cell_type": "code",
   "execution_count": 141,
   "metadata": {},
   "outputs": [],
   "source": [
    "G1GINI = 1- (G1PropCorrect**2 + G1PropIncorrect**2)"
   ]
  },
  {
   "cell_type": "code",
   "execution_count": 143,
   "metadata": {},
   "outputs": [
    {
     "data": {
      "text/plain": [
       "0.0"
      ]
     },
     "execution_count": 143,
     "metadata": {},
     "output_type": "execute_result"
    }
   ],
   "source": [
    "G1GINI"
   ]
  },
  {
   "cell_type": "code",
   "execution_count": 144,
   "metadata": {},
   "outputs": [],
   "source": [
    "G2PropCorrect = RightCounts[1][0] / RightCounts[1][0]\n",
    "G2PropIncorrect = 0/RightCounts[1][0] "
   ]
  },
  {
   "cell_type": "code",
   "execution_count": 145,
   "metadata": {},
   "outputs": [],
   "source": [
    "G2GINI = 1- (G2PropCorrect**2 + G2PropIncorrect**2)"
   ]
  },
  {
   "cell_type": "code",
   "execution_count": 146,
   "metadata": {},
   "outputs": [
    {
     "data": {
      "text/plain": [
       "0.0"
      ]
     },
     "execution_count": 146,
     "metadata": {},
     "output_type": "execute_result"
    }
   ],
   "source": [
    "G2GINI"
   ]
  },
  {
   "cell_type": "code",
   "execution_count": 147,
   "metadata": {},
   "outputs": [],
   "source": [
    "GINI = G1GINI + G2GINI"
   ]
  },
  {
   "cell_type": "code",
   "execution_count": 148,
   "metadata": {},
   "outputs": [
    {
     "data": {
      "text/plain": [
       "0.0"
      ]
     },
     "execution_count": 148,
     "metadata": {},
     "output_type": "execute_result"
    }
   ],
   "source": [
    "GINI"
   ]
  },
  {
   "cell_type": "markdown",
   "metadata": {},
   "source": [
    "And there we go we have our GINI score for a split at the X = 0 which is a perfect split however that was a long winded way to do it so lets build two functions, one that calculates the GINI score and one that finds the best split"
   ]
  },
  {
   "cell_type": "code",
   "execution_count": 161,
   "metadata": {},
   "outputs": [],
   "source": [
    "#this function will calculate the GINI score it takes the two sides of the split and the name of the classifier column it is a quick and dirtyu way to do it for qny number of groupsgroups\n",
    "def Calc_gini(Left,Right,Class):\n",
    "    \n",
    "    LeftCounts = np.array(Left[Class].value_counts().tolist())\n",
    "    LeftProps = LeftCounts / sum(LeftCounts)\n",
    "    \n",
    "    RightCounts = np.array(Right[Class].value_counts().tolist())\n",
    "    RightProps = RightCounts /sum(RightCounts)\n",
    "    \n",
    "    GiniLeft = 1-sum(LeftProps**2)\n",
    "    GiniRight = 1-sum(RightProps**2)\n",
    "    \n",
    "    return GiniLeft + GiniRight"
   ]
  },
  {
   "cell_type": "code",
   "execution_count": 189,
   "metadata": {},
   "outputs": [
    {
     "data": {
      "text/plain": [
       "0.0"
      ]
     },
     "execution_count": 189,
     "metadata": {},
     "output_type": "execute_result"
    }
   ],
   "source": [
    "Calc_gini(SplitLeft,SplitRight,\"Group\")"
   ]
  },
  {
   "cell_type": "code",
   "execution_count": 190,
   "metadata": {},
   "outputs": [],
   "source": [
    "#now we will just create a quick function that splits a dataframe\n",
    "def Create_split(Data,Column,SplitPoint):\n",
    "    SplitLeft = Data[Data[Column] < SplitPoint]\n",
    "    SplitRight = Data[Data[Column] > SplitPoint]\n",
    "    return SplitLeft, SplitRight"
   ]
  },
  {
   "cell_type": "code",
   "execution_count": 458,
   "metadata": {},
   "outputs": [],
   "source": [
    "Left,Right = Create_split(FullDat,'X',0)"
   ]
  },
  {
   "cell_type": "code",
   "execution_count": 459,
   "metadata": {},
   "outputs": [
    {
     "data": {
      "text/html": [
       "<div>\n",
       "<style scoped>\n",
       "    .dataframe tbody tr th:only-of-type {\n",
       "        vertical-align: middle;\n",
       "    }\n",
       "\n",
       "    .dataframe tbody tr th {\n",
       "        vertical-align: top;\n",
       "    }\n",
       "\n",
       "    .dataframe thead th {\n",
       "        text-align: right;\n",
       "    }\n",
       "</style>\n",
       "<table border=\"1\" class=\"dataframe\">\n",
       "  <thead>\n",
       "    <tr style=\"text-align: right;\">\n",
       "      <th></th>\n",
       "      <th>X</th>\n",
       "      <th>Y</th>\n",
       "      <th>Group</th>\n",
       "    </tr>\n",
       "  </thead>\n",
       "  <tbody>\n",
       "    <tr>\n",
       "      <th>0</th>\n",
       "      <td>-5.667395</td>\n",
       "      <td>13.440209</td>\n",
       "      <td>Group1</td>\n",
       "    </tr>\n",
       "    <tr>\n",
       "      <th>1</th>\n",
       "      <td>-3.960367</td>\n",
       "      <td>-0.818132</td>\n",
       "      <td>Group1</td>\n",
       "    </tr>\n",
       "    <tr>\n",
       "      <th>2</th>\n",
       "      <td>-3.608026</td>\n",
       "      <td>10.582247</td>\n",
       "      <td>Group1</td>\n",
       "    </tr>\n",
       "    <tr>\n",
       "      <th>3</th>\n",
       "      <td>-6.370921</td>\n",
       "      <td>0.010674</td>\n",
       "      <td>Group1</td>\n",
       "    </tr>\n",
       "    <tr>\n",
       "      <th>4</th>\n",
       "      <td>-4.910664</td>\n",
       "      <td>-4.140190</td>\n",
       "      <td>Group1</td>\n",
       "    </tr>\n",
       "  </tbody>\n",
       "</table>\n",
       "</div>"
      ],
      "text/plain": [
       "          X          Y   Group\n",
       "0 -5.667395  13.440209  Group1\n",
       "1 -3.960367  -0.818132  Group1\n",
       "2 -3.608026  10.582247  Group1\n",
       "3 -6.370921   0.010674  Group1\n",
       "4 -4.910664  -4.140190  Group1"
      ]
     },
     "execution_count": 459,
     "metadata": {},
     "output_type": "execute_result"
    }
   ],
   "source": [
    "Left.head()"
   ]
  },
  {
   "cell_type": "code",
   "execution_count": 509,
   "metadata": {},
   "outputs": [],
   "source": [
    "#now the overall function that will find the best split.\n",
    "def find_split(Data,Column,Class):\n",
    "    #first things first set a best score to be 1 and an empty best split\n",
    "    BestScore = 1\n",
    "    BestSplit = []\n",
    "    #next we will loop through all values of the data and calculate the gini score for each split\n",
    "    for i in range(0,len(Data[Column])):\n",
    "        Left,Right = Create_split(Data,Column,Data.iloc[i][Column])\n",
    "        CurrentGini = Calc_gini(Left,Right,Class)\n",
    "        #if our current score is better than the current best replace it and set that value to be the split point.\n",
    "        if CurrentGini < BestScore:\n",
    "            BestScore = CurrentGini\n",
    "            BestSplit = Data.iloc[i][Column]\n",
    "            index = i\n",
    "    #we're going to return an output with the location of the split, the value split on and the split datasets\n",
    "    return {'Index' : index,'Value' : BestSplit , 'Sets' :  Create_split(Data,Column,BestSplit)}\n",
    "    "
   ]
  },
  {
   "cell_type": "code",
   "execution_count": 534,
   "metadata": {},
   "outputs": [],
   "source": [
    "TestSplit = find_split(FullDat,'X','Group')"
   ]
  },
  {
   "cell_type": "code",
   "execution_count": 512,
   "metadata": {},
   "outputs": [
    {
     "data": {
      "text/plain": [
       "-1.7526950201208091"
      ]
     },
     "execution_count": 512,
     "metadata": {},
     "output_type": "execute_result"
    }
   ],
   "source": [
    "TestSplit['Value']"
   ]
  },
  {
   "cell_type": "markdown",
   "metadata": {},
   "source": [
    "Right so we have built a function that given input data will find the best split point. This is the fundemental part of the algorithm now we just have to write the functions that will build the tree itself. This is in fact phenominally complicated and much harder than simply doing the maths as it is algorithmically difficult to explore the tree in the correct order. Try and get your head around how the following function navigates the tree.\n",
    "\n",
    "Remember that a tree needs to explore left first:\n",
    "\n",
    "                    Root\n",
    "                    \n",
    "         L(1)(3)(5)         R(6)(8)\n",
    "         \n",
    "     L(2)         R(4)   L(7)      R(9)\n",
    "     \n",
    "The number is the order you visit them in so go left where possible and then right when left is not possible and back up the tree."
   ]
  },
  {
   "cell_type": "code",
   "execution_count": 613,
   "metadata": {},
   "outputs": [],
   "source": [
    "#lets make some messier data to play around with. we've created 3 variables here so we can do classification on multiple features\n",
    "X1 = np.array([random.gauss(-2,2) for _ in range(100)])\n",
    "X2 = np.array([random.gauss(2,2) for _ in range(100)])\n",
    "Y1 = np.array([random.gauss(1,1) for _ in range(100)])\n",
    "Y2 = np.array([random.gauss(-1,1) for _ in range(100)])\n",
    "Z1 = np.array([random.gauss(4,3) for _ in range(100)])\n",
    "Z2 = np.array([random.gauss(6,2) for _ in range(100)])"
   ]
  },
  {
   "cell_type": "code",
   "execution_count": 614,
   "metadata": {},
   "outputs": [],
   "source": [
    "Group1 = pd.DataFrame({'X' : X1, 'Y' : Y1, 'Z' : Z1, 'Group' : G1})\n",
    "Group2 = pd.DataFrame({'X' : X2, 'Y' : Y2, 'Z' : Z2 , 'Group' : G2})\n",
    "FullDat = pd.concat([Group1,Group2])"
   ]
  },
  {
   "cell_type": "code",
   "execution_count": 620,
   "metadata": {},
   "outputs": [
    {
     "data": {
      "image/png": "[encoded data removed]",
      "text/plain": [
       "<Figure size 432x288 with 1 Axes>"
      ]
     },
     "metadata": {
      "needs_background": "light"
     },
     "output_type": "display_data"
    }
   ],
   "source": [
    "fig = plt.figure()\n",
    "ax = Axes3D(fig)\n",
    "ax.scatter(FullDat['X'],FullDat['Y'],FullDat['Z'])\n",
    "plt.show()"
   ]
  },
  {
   "cell_type": "code",
   "execution_count": 573,
   "metadata": {},
   "outputs": [],
   "source": [
    "#First we will create a simple function that will save a terminal node it simply takes the split data and finds the most common classification and says that is the prediction\n",
    "def to_terminal(Set,Class):\n",
    "\treturn Set[Class].value_counts().idxmax()\n",
    " "
   ]
  },
  {
   "cell_type": "code",
   "execution_count": 574,
   "metadata": {},
   "outputs": [
    {
     "data": {
      "text/plain": [
       "'Group1'"
      ]
     },
     "execution_count": 574,
     "metadata": {},
     "output_type": "execute_result"
    }
   ],
   "source": [
    "to_terminal(Left,'Group')"
   ]
  },
  {
   "cell_type": "code",
   "execution_count": 560,
   "metadata": {},
   "outputs": [],
   "source": [
    "#This function is the heart and soul of the decision tree creation algorithm, This is a recursive function - which means it calls itself as you can see where it calls split()\n",
    "\n",
    "#The function takes a node - the output from find_split(), a maximum depth, minimum size of the data and a starting depth\n",
    "def split(node,Column,Class, max_depth, min_size, depth):\n",
    "    #here we extract the two datasets from our split\n",
    "    left, right = node['Sets']\n",
    "    #we then delete the node sets so we can reassign it later\n",
    "    del(node['Sets'])\n",
    "    # check for a no split by making sure left and right actually exist\n",
    "    if len(left) < 1 or len(right) < 1:\n",
    "        node['left'] = node['right'] = to_terminal(left + right,Class)\n",
    "        return\n",
    "    \n",
    "    # check for max depth\n",
    "    if depth >= max_depth:\n",
    "        node['left'], node['right'] = to_terminal(left,Class), to_terminal(right,Class)\n",
    "        return\n",
    " \n",
    "\t# process left child\n",
    "    #First check that there is enough data if there isn't terminal it if there is keep splitting\n",
    "    if len(left) <= min_size:\n",
    "        node['left'] = to_terminal(left,Class)\n",
    "    else:\n",
    "        node['left'] = find_split(left,Column,Class)\n",
    "        #this is the recursive part each node that isn't made terminal then splits again and again and again until it is terminal\n",
    "        split(node['left'],Column,Class, max_depth, min_size, depth+1)\n",
    "        \n",
    "\t# process right child\n",
    "    #First check that there is enough data if there isn't terminal it if there is keep splitting\n",
    "    if len(right) <= min_size:\n",
    "        node['right'] = to_terminal(right)\n",
    "    else:\n",
    "        node['right'] = find_split(right,Column,Class)\n",
    "        split(node['right'],Column,Class, max_depth, min_size, depth+1)"
   ]
  },
  {
   "cell_type": "code",
   "execution_count": 561,
   "metadata": {},
   "outputs": [],
   "source": [
    "#and our final function is very simple it simply creates the initial root and then runs the split function on that.\n",
    "def Build_tree(Data, Column, Class,max_depth, min_size):\n",
    "\troot = find_split(Data,Column,Class)\n",
    "\tsplit(root,Column,Class, max_depth, min_size, 1)\n",
    "\treturn root"
   ]
  },
  {
   "cell_type": "code",
   "execution_count": 575,
   "metadata": {},
   "outputs": [],
   "source": [
    "Tree = Build_tree(FullDat,'X','Group',2,10)"
   ]
  },
  {
   "cell_type": "code",
   "execution_count": 576,
   "metadata": {},
   "outputs": [
    {
     "data": {
      "text/plain": [
       "{'Index': 162,\n",
       " 'Value': 0.8114435908369126,\n",
       " 'left': {'Index': 153,\n",
       "  'Value': -5.103194650820516,\n",
       "  'left': 'Group2',\n",
       "  'right': 'Group1'},\n",
       " 'right': {'Index': 0,\n",
       "  'Value': 5.4631987188813715,\n",
       "  'left': 'Group2',\n",
       "  'right': 'Group2'}}"
      ]
     },
     "execution_count": 576,
     "metadata": {},
     "output_type": "execute_result"
    }
   ],
   "source": [
    "Tree"
   ]
  },
  {
   "cell_type": "markdown",
   "metadata": {},
   "source": [
    "Well that is apparently our tree although in that form it is a little bit hard to read so lets create a new function that prints the tree nicely"
   ]
  },
  {
   "cell_type": "code",
   "execution_count": 568,
   "metadata": {},
   "outputs": [],
   "source": [
    "#Don't worry too much about how this is made it is just there to help us visualise this\n",
    "def print_tree(node, depth=0):\n",
    "\tif isinstance(node, dict):\n",
    "\t\tprint('%s[X%d < %.3f]' % ((depth*' ', (node['Index']+1), node['Value'])))\n",
    "\t\tprint_tree(node['left'], depth+1)\n",
    "\t\tprint_tree(node['right'], depth+1)\n",
    "\telse:\n",
    "\t\tprint('%s[%s]' % ((depth*' ', node)))"
   ]
  },
  {
   "cell_type": "code",
   "execution_count": 577,
   "metadata": {},
   "outputs": [
    {
     "name": "stdout",
     "output_type": "stream",
     "text": [
      "[X163 < 0.811]\n",
      " [X154 < -5.103]\n",
      "  [Group2]\n",
      "  [Group1]\n",
      " [X1 < 5.463]\n",
      "  [Group2]\n",
      "  [Group2]\n"
     ]
    }
   ],
   "source": [
    "print_tree(Tree)"
   ]
  },
  {
   "cell_type": "markdown",
   "metadata": {},
   "source": [
    "What this means is that we have our first split point at 0.811 and then the left of that is split at -5.103 which splits into two terminal nodes the left which predicts data ending here be in group 2 and the right which predicts group one.\n",
    "    \n",
    "The right hand side has a split at 5.463 and then both terminal nodes predict group 2\n",
    "\n",
    "So now we have an algorithm that builds a tree we need to make some predictions and see how good our tree is.\n",
    "    "
   ]
  },
  {
   "cell_type": "code",
   "execution_count": 589,
   "metadata": {},
   "outputs": [],
   "source": [
    "#this is a function that takes a single row of data and following the tree predicts which group it should be in, it is another recursive function\n",
    "def Predict(Tree,Data):\n",
    "    #it first checks to see whether the data provided is bigger or smaller than the intial split\n",
    "    if Data < Tree['Value']:\n",
    "        #this checks to see if there is a child node isinstance checks to see if there is a dictionary called Tree left if there is it runs the whole thing again on it if not it returns the preciction\n",
    "        if isinstance(Tree['left'], dict):\n",
    "            return Predict(Tree['left'], Data)\n",
    "        else:\n",
    "            return Tree['left']\n",
    "    else:\n",
    "        if isinstance(Tree['right'], dict):\n",
    "            return Predict(Tree['right'], Data)\n",
    "        else:\n",
    "            return Tree['right']"
   ]
  },
  {
   "cell_type": "code",
   "execution_count": 587,
   "metadata": {},
   "outputs": [
    {
     "data": {
      "text/plain": [
       "'Group1'"
      ]
     },
     "execution_count": 587,
     "metadata": {},
     "output_type": "execute_result"
    }
   ],
   "source": [
    "Predict(Tree, 0.1)"
   ]
  },
  {
   "cell_type": "code",
   "execution_count": 588,
   "metadata": {},
   "outputs": [
    {
     "data": {
      "text/plain": [
       "'Group2'"
      ]
     },
     "execution_count": 588,
     "metadata": {},
     "output_type": "execute_result"
    }
   ],
   "source": [
    "Predict(Tree, 2)"
   ]
  },
  {
   "cell_type": "markdown",
   "metadata": {},
   "source": [
    "Lets create some more fake data under the same parameters to trial our tree on"
   ]
  },
  {
   "cell_type": "code",
   "execution_count": 590,
   "metadata": {},
   "outputs": [],
   "source": [
    "TestX1 = np.array([random.gauss(-2,1) for _ in range(100)])\n",
    "TestX2 = np.array([random.gauss(0,5) for _ in range(100)])\n",
    "TestY1 = np.array([random.gauss(2,1) for _ in range(100)])\n",
    "TestY2 = np.array([random.gauss(0,5) for _ in range(100)])"
   ]
  },
  {
   "cell_type": "code",
   "execution_count": 591,
   "metadata": {},
   "outputs": [],
   "source": [
    "TestGroup1 = pd.DataFrame({'X' : TestX1, 'Y' : TestY1, 'Group' : G1})\n",
    "TestGroup2 = pd.DataFrame({'X' : TestX2, 'Y' : TestY2, 'Group' : G2})\n",
    "TestData = pd.concat([TestGroup1,TestGroup2])"
   ]
  },
  {
   "cell_type": "code",
   "execution_count": 592,
   "metadata": {},
   "outputs": [
    {
     "data": {
      "text/html": [
       "<div>\n",
       "<style scoped>\n",
       "    .dataframe tbody tr th:only-of-type {\n",
       "        vertical-align: middle;\n",
       "    }\n",
       "\n",
       "    .dataframe tbody tr th {\n",
       "        vertical-align: top;\n",
       "    }\n",
       "\n",
       "    .dataframe thead th {\n",
       "        text-align: right;\n",
       "    }\n",
       "</style>\n",
       "<table border=\"1\" class=\"dataframe\">\n",
       "  <thead>\n",
       "    <tr style=\"text-align: right;\">\n",
       "      <th></th>\n",
       "      <th>X</th>\n",
       "      <th>Y</th>\n",
       "      <th>Group</th>\n",
       "    </tr>\n",
       "  </thead>\n",
       "  <tbody>\n",
       "    <tr>\n",
       "      <th>0</th>\n",
       "      <td>-0.924738</td>\n",
       "      <td>1.586017</td>\n",
       "      <td>Group1</td>\n",
       "    </tr>\n",
       "    <tr>\n",
       "      <th>1</th>\n",
       "      <td>-2.171178</td>\n",
       "      <td>1.347661</td>\n",
       "      <td>Group1</td>\n",
       "    </tr>\n",
       "    <tr>\n",
       "      <th>2</th>\n",
       "      <td>-1.356510</td>\n",
       "      <td>2.252986</td>\n",
       "      <td>Group1</td>\n",
       "    </tr>\n",
       "    <tr>\n",
       "      <th>3</th>\n",
       "      <td>-0.916785</td>\n",
       "      <td>2.833189</td>\n",
       "      <td>Group1</td>\n",
       "    </tr>\n",
       "    <tr>\n",
       "      <th>4</th>\n",
       "      <td>-2.855094</td>\n",
       "      <td>2.273343</td>\n",
       "      <td>Group1</td>\n",
       "    </tr>\n",
       "  </tbody>\n",
       "</table>\n",
       "</div>"
      ],
      "text/plain": [
       "          X         Y   Group\n",
       "0 -0.924738  1.586017  Group1\n",
       "1 -2.171178  1.347661  Group1\n",
       "2 -1.356510  2.252986  Group1\n",
       "3 -0.916785  2.833189  Group1\n",
       "4 -2.855094  2.273343  Group1"
      ]
     },
     "execution_count": 592,
     "metadata": {},
     "output_type": "execute_result"
    }
   ],
   "source": [
    "TestData.head()"
   ]
  },
  {
   "cell_type": "code",
   "execution_count": 598,
   "metadata": {},
   "outputs": [],
   "source": [
    "#now we have our testing data lets run the predict function over it\n",
    "#we'll initialise an empty vector and then append to it the prediction for each row\n",
    "Predictions = []\n",
    "for i in range(0,len(TestData)):\n",
    "    Predictions.append(Predict(Tree,TestData.iloc[i]['X']))"
   ]
  },
  {
   "cell_type": "code",
   "execution_count": 605,
   "metadata": {},
   "outputs": [
    {
     "data": {
      "text/plain": [
       "['Group1', 'Group1', 'Group1', 'Group1']"
      ]
     },
     "execution_count": 605,
     "metadata": {},
     "output_type": "execute_result"
    }
   ],
   "source": [
    "Predictions[1:5]"
   ]
  },
  {
   "cell_type": "code",
   "execution_count": 601,
   "metadata": {},
   "outputs": [],
   "source": [
    "#lets work out how accurate our predictions were\n",
    "Incorrect = 0\n",
    "for i in range(0,len(Predictions)):\n",
    "    if Predictions[i] != TestData.iloc[i]['Group']:\n",
    "        Incorrect +=1"
   ]
  },
  {
   "cell_type": "code",
   "execution_count": 602,
   "metadata": {},
   "outputs": [
    {
     "data": {
      "text/plain": [
       "46"
      ]
     },
     "execution_count": 602,
     "metadata": {},
     "output_type": "execute_result"
    }
   ],
   "source": [
    "Incorrect"
   ]
  },
  {
   "cell_type": "code",
   "execution_count": 609,
   "metadata": {},
   "outputs": [
    {
     "data": {
      "text/plain": [
       "77.0"
      ]
     },
     "execution_count": 609,
     "metadata": {},
     "output_type": "execute_result"
    }
   ],
   "source": [
    "((len(Predictions) - Incorrect)/len(Predictions))*100"
   ]
  },
  {
   "cell_type": "markdown",
   "metadata": {},
   "source": [
    "## Task"
   ]
  },
  {
   "cell_type": "markdown",
   "metadata": {},
   "source": [
    "So our model predicts at a 77% accuracy which is pretty good considering it is working on made up data. The next step is to mess around with the hyperparameters, try out different tree depths etc and see if you can improve prediction accuracy. There are also other features to build trees on. Make a tree for Y and a tree for Z and then you need to run the prediction on all 3 and the most common prediction is the one you go with."
   ]
  },
  {
   "cell_type": "code",
   "execution_count": null,
   "metadata": {},
   "outputs": [],
   "source": []
  },
  {
   "cell_type": "code",
   "execution_count": null,
   "metadata": {},
   "outputs": [],
   "source": []
  },
  {
   "cell_type": "code",
   "execution_count": null,
   "metadata": {},
   "outputs": [],
   "source": []
  },
  {
   "cell_type": "code",
   "execution_count": null,
   "metadata": {},
   "outputs": [],
   "source": []
  },
  {
   "cell_type": "code",
   "execution_count": null,
   "metadata": {},
   "outputs": [],
   "source": []
  },
  {
   "cell_type": "markdown",
   "metadata": {},
   "source": [
    "## Task 2"
   ]
  },
  {
   "cell_type": "markdown",
   "metadata": {},
   "source": [
    "Inside the practical folders is the dataset abalone. This is a classified dataset of Shellfish with various features of their morphology and then what sex they are. Build a decision tree that allows you to predict what sex an individual is."
   ]
  },
  {
   "cell_type": "code",
   "execution_count": 3,
   "metadata": {},
   "outputs": [],
   "source": [
    "Abalone = pd.read_csv('Abalone.csv')"
   ]
  },
  {
   "cell_type": "code",
   "execution_count": 4,
   "metadata": {},
   "outputs": [
    {
     "data": {
      "text/html": [
       "<div>\n",
       "<style scoped>\n",
       "    .dataframe tbody tr th:only-of-type {\n",
       "        vertical-align: middle;\n",
       "    }\n",
       "\n",
       "    .dataframe tbody tr th {\n",
       "        vertical-align: top;\n",
       "    }\n",
       "\n",
       "    .dataframe thead th {\n",
       "        text-align: right;\n",
       "    }\n",
       "</style>\n",
       "<table border=\"1\" class=\"dataframe\">\n",
       "  <thead>\n",
       "    <tr style=\"text-align: right;\">\n",
       "      <th></th>\n",
       "      <th>Sex</th>\n",
       "      <th>Length</th>\n",
       "      <th>Diameter</th>\n",
       "      <th>Height</th>\n",
       "      <th>Whole_Weight</th>\n",
       "      <th>Shucked_Weight</th>\n",
       "      <th>Viscera_Weight</th>\n",
       "      <th>Shell_Weight</th>\n",
       "      <th>Rings</th>\n",
       "    </tr>\n",
       "  </thead>\n",
       "  <tbody>\n",
       "    <tr>\n",
       "      <th>0</th>\n",
       "      <td>M</td>\n",
       "      <td>0.455</td>\n",
       "      <td>0.365</td>\n",
       "      <td>0.095</td>\n",
       "      <td>0.5140</td>\n",
       "      <td>0.2245</td>\n",
       "      <td>0.1010</td>\n",
       "      <td>0.150</td>\n",
       "      <td>15</td>\n",
       "    </tr>\n",
       "    <tr>\n",
       "      <th>1</th>\n",
       "      <td>M</td>\n",
       "      <td>0.350</td>\n",
       "      <td>0.265</td>\n",
       "      <td>0.090</td>\n",
       "      <td>0.2255</td>\n",
       "      <td>0.0995</td>\n",
       "      <td>0.0485</td>\n",
       "      <td>0.070</td>\n",
       "      <td>7</td>\n",
       "    </tr>\n",
       "    <tr>\n",
       "      <th>2</th>\n",
       "      <td>F</td>\n",
       "      <td>0.530</td>\n",
       "      <td>0.420</td>\n",
       "      <td>0.135</td>\n",
       "      <td>0.6770</td>\n",
       "      <td>0.2565</td>\n",
       "      <td>0.1415</td>\n",
       "      <td>0.210</td>\n",
       "      <td>9</td>\n",
       "    </tr>\n",
       "    <tr>\n",
       "      <th>3</th>\n",
       "      <td>M</td>\n",
       "      <td>0.440</td>\n",
       "      <td>0.365</td>\n",
       "      <td>0.125</td>\n",
       "      <td>0.5160</td>\n",
       "      <td>0.2155</td>\n",
       "      <td>0.1140</td>\n",
       "      <td>0.155</td>\n",
       "      <td>10</td>\n",
       "    </tr>\n",
       "    <tr>\n",
       "      <th>4</th>\n",
       "      <td>I</td>\n",
       "      <td>0.330</td>\n",
       "      <td>0.255</td>\n",
       "      <td>0.080</td>\n",
       "      <td>0.2050</td>\n",
       "      <td>0.0895</td>\n",
       "      <td>0.0395</td>\n",
       "      <td>0.055</td>\n",
       "      <td>7</td>\n",
       "    </tr>\n",
       "  </tbody>\n",
       "</table>\n",
       "</div>"
      ],
      "text/plain": [
       "  Sex  Length  Diameter  Height  Whole_Weight  Shucked_Weight  Viscera_Weight  \\\n",
       "0   M   0.455     0.365   0.095        0.5140          0.2245          0.1010   \n",
       "1   M   0.350     0.265   0.090        0.2255          0.0995          0.0485   \n",
       "2   F   0.530     0.420   0.135        0.6770          0.2565          0.1415   \n",
       "3   M   0.440     0.365   0.125        0.5160          0.2155          0.1140   \n",
       "4   I   0.330     0.255   0.080        0.2050          0.0895          0.0395   \n",
       "\n",
       "   Shell_Weight  Rings  \n",
       "0         0.150     15  \n",
       "1         0.070      7  \n",
       "2         0.210      9  \n",
       "3         0.155     10  \n",
       "4         0.055      7  "
      ]
     },
     "execution_count": 4,
     "metadata": {},
     "output_type": "execute_result"
    }
   ],
   "source": [
    "Abalone.head()"
   ]
  },
  {
   "cell_type": "code",
   "execution_count": null,
   "metadata": {},
   "outputs": [],
   "source": []
  },
  {
   "cell_type": "code",
   "execution_count": null,
   "metadata": {},
   "outputs": [],
   "source": []
  },
  {
   "cell_type": "code",
   "execution_count": null,
   "metadata": {},
   "outputs": [],
   "source": []
  },
  {
   "cell_type": "code",
   "execution_count": null,
   "metadata": {},
   "outputs": [],
   "source": []
  },
  {
   "cell_type": "code",
   "execution_count": null,
   "metadata": {},
   "outputs": [],
   "source": []
  },
  {
   "cell_type": "code",
   "execution_count": null,
   "metadata": {},
   "outputs": [],
   "source": []
  }
 ],
 "metadata": {
  "kernelspec": {
   "display_name": "Python 3",
   "language": "python",
   "name": "python3"
  },
  "language_info": {
   "codemirror_mode": {
    "name": "ipython",
    "version": 3
   },
   "file_extension": ".py",
   "mimetype": "text/x-python",
   "name": "python",
   "nbconvert_exporter": "python",
   "pygments_lexer": "ipython3",
   "version": "3.7.1"
  }
 },
 "nbformat": 4,
 "nbformat_minor": 2
}
