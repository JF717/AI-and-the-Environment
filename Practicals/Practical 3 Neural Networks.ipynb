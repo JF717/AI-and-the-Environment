{
 "cells": [
  {
   "cell_type": "markdown",
   "metadata": {},
   "source": [
    "## Neural Networks From Scratch"
   ]
  },
  {
   "cell_type": "markdown",
   "metadata": {},
   "source": [
    "Here we will build a simple feed forward artificial Neural network from scratch\n",
    "\n",
    "First step by step and then functionise it."
   ]
  },
  {
   "cell_type": "code",
   "execution_count": 6,
   "metadata": {},
   "outputs": [],
   "source": [
    "#first of all we will need some packages\n",
    "import numpy as np\n",
    "import pandas as pd\n",
    "import math\n",
    "import random"
   ]
  },
  {
   "cell_type": "code",
   "execution_count": 4,
   "metadata": {},
   "outputs": [],
   "source": [
    "#lets create a small numpy array of input data, this is the same as our deforestation data\n",
    "Input = np.array([10,1,4])"
   ]
  },
  {
   "cell_type": "code",
   "execution_count": 41,
   "metadata": {},
   "outputs": [
    {
     "data": {
      "text/plain": [
       "array([10,  1,  4])"
      ]
     },
     "execution_count": 41,
     "metadata": {},
     "output_type": "execute_result"
    }
   ],
   "source": [
    "#take a look at it\n",
    "Input"
   ]
  },
  {
   "cell_type": "code",
   "execution_count": 42,
   "metadata": {},
   "outputs": [],
   "source": [
    "#Ok for dimensional reasons we want to transpose our Input"
   ]
  },
  {
   "cell_type": "code",
   "execution_count": 44,
   "metadata": {},
   "outputs": [],
   "source": [
    "Input = Input.reshape((Input.shape[0],1))"
   ]
  },
  {
   "cell_type": "code",
   "execution_count": 45,
   "metadata": {},
   "outputs": [
    {
     "data": {
      "text/plain": [
       "array([[10],\n",
       "       [ 1],\n",
       "       [ 4]])"
      ]
     },
     "execution_count": 45,
     "metadata": {},
     "output_type": "execute_result"
    }
   ],
   "source": [
    "Input"
   ]
  },
  {
   "cell_type": "markdown",
   "metadata": {},
   "source": [
    "From the lecture we had a simple structure:\n",
    "\n",
    "3 Input : 4 Hidden Layer : 1 Output"
   ]
  },
  {
   "cell_type": "code",
   "execution_count": 126,
   "metadata": {},
   "outputs": [],
   "source": [
    "#So lets generate an array that is the weights our hidden layer of size 4 \n",
    "# the weights need to be generated randomly and we will generate them between -4 and +4 for ease\n",
    "mean = 0\n",
    "stddev = 3\n",
    "Hidden = np.array([random.gauss(mean,stddev) for _ in range(12)])"
   ]
  },
  {
   "cell_type": "code",
   "execution_count": 127,
   "metadata": {},
   "outputs": [
    {
     "data": {
      "text/plain": [
       "array([-0.19025482,  0.1001729 ,  2.97870522,  6.34286942,  4.0150106 ,\n",
       "       -1.91301903, -2.36477718,  0.12299034,  0.02835017, -1.44166167,\n",
       "       -6.54371261, -1.45838569])"
      ]
     },
     "execution_count": 127,
     "metadata": {},
     "output_type": "execute_result"
    }
   ],
   "source": [
    "Hidden"
   ]
  },
  {
   "cell_type": "code",
   "execution_count": 128,
   "metadata": {},
   "outputs": [],
   "source": [
    "#We want to make sure that we have the correct dimensions here\n",
    "Hidden = Hidden.reshape(len(Input),4)"
   ]
  },
  {
   "cell_type": "code",
   "execution_count": 129,
   "metadata": {},
   "outputs": [
    {
     "data": {
      "text/plain": [
       "array([[-0.19025482,  0.1001729 ,  2.97870522,  6.34286942],\n",
       "       [ 4.0150106 , -1.91301903, -2.36477718,  0.12299034],\n",
       "       [ 0.02835017, -1.44166167, -6.54371261, -1.45838569]])"
      ]
     },
     "execution_count": 129,
     "metadata": {},
     "output_type": "execute_result"
    }
   ],
   "source": [
    "Hidden"
   ]
  },
  {
   "cell_type": "code",
   "execution_count": 130,
   "metadata": {},
   "outputs": [],
   "source": [
    "#Lets also generate some random biases\n",
    "BiasHidden = np.array([random.gauss(mean,stddev) for _ in range(4)])"
   ]
  },
  {
   "cell_type": "code",
   "execution_count": 131,
   "metadata": {},
   "outputs": [
    {
     "data": {
      "text/plain": [
       "array([-0.54127319,  3.04424858, -4.19162685, -2.37510582])"
      ]
     },
     "execution_count": 131,
     "metadata": {},
     "output_type": "execute_result"
    }
   ],
   "source": [
    "BiasHidden"
   ]
  },
  {
   "cell_type": "code",
   "execution_count": 132,
   "metadata": {},
   "outputs": [],
   "source": [
    "#Ok so we have our input and our hidden layer now we want to work out the first layer\n",
    "#which means we need to do our first multiplication\n",
    "\n",
    "Layer1 = np.dot(Input.T,Hidden)"
   ]
  },
  {
   "cell_type": "code",
   "execution_count": 133,
   "metadata": {},
   "outputs": [
    {
     "data": {
      "text/plain": [
       "array([[ 2.22586306, -6.67793669,  1.24742459, 57.71814174]])"
      ]
     },
     "execution_count": 133,
     "metadata": {},
     "output_type": "execute_result"
    }
   ],
   "source": [
    "#And here are our outputs for layer 1 after multiplication\n",
    "Layer1"
   ]
  },
  {
   "cell_type": "code",
   "execution_count": 134,
   "metadata": {},
   "outputs": [],
   "source": [
    "#Remember to add the biases\n",
    "Layer1 = Layer1+BiasHidden"
   ]
  },
  {
   "cell_type": "code",
   "execution_count": 135,
   "metadata": {},
   "outputs": [
    {
     "data": {
      "text/plain": [
       "array([[ 1.68458987, -3.63368811, -2.94420226, 55.34303592]])"
      ]
     },
     "execution_count": 135,
     "metadata": {},
     "output_type": "execute_result"
    }
   ],
   "source": [
    "Layer1"
   ]
  },
  {
   "cell_type": "code",
   "execution_count": 98,
   "metadata": {},
   "outputs": [],
   "source": [
    "#Now we have to apply our activation functions, we covered a few activation functions in the lecture and specifically for the hidden layer\n",
    "#we looked at ReLu and tanh so we will define them here as functions\n",
    "\n",
    "#ReLU is simple as it just turns any negative values to 0\n",
    "def ReLU(x):\n",
    "    return np.maximum(x,0)"
   ]
  },
  {
   "cell_type": "code",
   "execution_count": 136,
   "metadata": {},
   "outputs": [
    {
     "data": {
      "text/plain": [
       "array([[ 1.68458987,  0.        ,  0.        , 55.34303592]])"
      ]
     },
     "execution_count": 136,
     "metadata": {},
     "output_type": "execute_result"
    }
   ],
   "source": [
    "ReLU(Layer1)"
   ]
  },
  {
   "cell_type": "code",
   "execution_count": 109,
   "metadata": {},
   "outputs": [],
   "source": [
    "#tanh is a bit more complicated taking the form e^x - e^-x / e^x + e^-x\n",
    "def tanh(x):\n",
    "    ex = np.exp(x)\n",
    "    enx = np.exp(-x)\n",
    "    return (ex - enx) / (ex + enx)"
   ]
  },
  {
   "cell_type": "code",
   "execution_count": 137,
   "metadata": {},
   "outputs": [
    {
     "data": {
      "text/plain": [
       "array([[ 0.93345463, -0.99860509, -0.99447253,  1.        ]])"
      ]
     },
     "execution_count": 137,
     "metadata": {},
     "output_type": "execute_result"
    }
   ],
   "source": [
    "tanh(Layer1)"
   ]
  },
  {
   "cell_type": "code",
   "execution_count": 138,
   "metadata": {},
   "outputs": [
    {
     "data": {
      "text/plain": [
       "array([[ 0.93345463, -0.99860509, -0.99447253,  1.        ]])"
      ]
     },
     "execution_count": 138,
     "metadata": {},
     "output_type": "execute_result"
    }
   ],
   "source": [
    "#Tanh is actually already inside numpy\n",
    "np.tanh(Layer1)"
   ]
  },
  {
   "cell_type": "code",
   "execution_count": 139,
   "metadata": {},
   "outputs": [],
   "source": [
    "#lets use tanh as our activation function \n",
    "Layer1out = tanh(Layer1)"
   ]
  },
  {
   "cell_type": "code",
   "execution_count": 140,
   "metadata": {},
   "outputs": [
    {
     "data": {
      "text/plain": [
       "array([[ 0.93345463, -0.99860509, -0.99447253,  1.        ]])"
      ]
     },
     "execution_count": 140,
     "metadata": {},
     "output_type": "execute_result"
    }
   ],
   "source": [
    "Layer1out"
   ]
  },
  {
   "cell_type": "code",
   "execution_count": 141,
   "metadata": {},
   "outputs": [],
   "source": [
    "#next we will need the weights of our output layer we are trying to collapse 4 into 1 so we need 4 weights\n",
    "OutWeights = np.array([random.gauss(mean,stddev) for _ in range(4)])"
   ]
  },
  {
   "cell_type": "code",
   "execution_count": 142,
   "metadata": {},
   "outputs": [
    {
     "data": {
      "text/plain": [
       "array([ 0.02096114,  4.34008912, -2.85926929,  3.17636012])"
      ]
     },
     "execution_count": 142,
     "metadata": {},
     "output_type": "execute_result"
    }
   ],
   "source": [
    "OutWeights"
   ]
  },
  {
   "cell_type": "code",
   "execution_count": 205,
   "metadata": {},
   "outputs": [],
   "source": [
    "Out = np.dot(Layer1out,OutWeights)"
   ]
  },
  {
   "cell_type": "code",
   "execution_count": 208,
   "metadata": {},
   "outputs": [
    {
     "data": {
      "text/plain": [
       "array([1.70535606])"
      ]
     },
     "execution_count": 208,
     "metadata": {},
     "output_type": "execute_result"
    }
   ],
   "source": [
    "Out"
   ]
  },
  {
   "cell_type": "code",
   "execution_count": 206,
   "metadata": {},
   "outputs": [],
   "source": [
    "#We need a bias for the final one\n",
    "BiasOut = np.array([random.gauss(mean,stddev) for _ in range(1)])"
   ]
  },
  {
   "cell_type": "code",
   "execution_count": 207,
   "metadata": {},
   "outputs": [
    {
     "data": {
      "text/plain": [
       "array([-5.18150484])"
      ]
     },
     "execution_count": 207,
     "metadata": {},
     "output_type": "execute_result"
    }
   ],
   "source": [
    "BiasOut"
   ]
  },
  {
   "cell_type": "code",
   "execution_count": 209,
   "metadata": {},
   "outputs": [],
   "source": [
    "Out += BiasOut"
   ]
  },
  {
   "cell_type": "code",
   "execution_count": 122,
   "metadata": {},
   "outputs": [],
   "source": [
    "#Now we need our final activation function the sigmoid function\n",
    "def Sigmoid(x):\n",
    "    return 1 / (1 + np.exp(-x))"
   ]
  },
  {
   "cell_type": "code",
   "execution_count": 210,
   "metadata": {},
   "outputs": [],
   "source": [
    "OutPrediction = Sigmoid(Out)"
   ]
  },
  {
   "cell_type": "code",
   "execution_count": 211,
   "metadata": {},
   "outputs": [
    {
     "data": {
      "text/plain": [
       "array([0.02999854])"
      ]
     },
     "execution_count": 211,
     "metadata": {},
     "output_type": "execute_result"
    }
   ],
   "source": [
    "OutPrediction"
   ]
  },
  {
   "cell_type": "code",
   "execution_count": 212,
   "metadata": {},
   "outputs": [],
   "source": [
    "#Ok we have done a complete forward pass through our neural network and the model is predicting this area will be deforested with a probability\n",
    "#as this area was deforested it should be 1 so lets calculate the error, we will make a function that does this\n",
    "def LogLoss(x):\n",
    "    return -np.log(x)"
   ]
  },
  {
   "cell_type": "code",
   "execution_count": 213,
   "metadata": {},
   "outputs": [],
   "source": [
    "Error = LogLoss(OutPrediction)"
   ]
  },
  {
   "cell_type": "code",
   "execution_count": 214,
   "metadata": {},
   "outputs": [
    {
     "data": {
      "text/plain": [
       "array([3.50660648])"
      ]
     },
     "execution_count": 214,
     "metadata": {},
     "output_type": "execute_result"
    }
   ],
   "source": [
    "Error"
   ]
  },
  {
   "cell_type": "code",
   "execution_count": 153,
   "metadata": {},
   "outputs": [],
   "source": [
    "#Now we need to begin our back propagation with this error the first step will need the derivative of the sigmoid function\n",
    "# the dsigmoid = sigmoid * 1 - Sigmoid\n",
    "def SigmoidDerivative(x):\n",
    "    return (1 / (1 + np.exp(-x))) * (1 - (1 + np.exp(-x)))"
   ]
  },
  {
   "cell_type": "code",
   "execution_count": 154,
   "metadata": {},
   "outputs": [],
   "source": [
    "#we also need our log loss derivative which is just -1/-logloss\n",
    "def DLogLoss(x):\n",
    "    return 1/(-x)"
   ]
  },
  {
   "cell_type": "code",
   "execution_count": 215,
   "metadata": {},
   "outputs": [],
   "source": [
    "#our error composite then becomes DLogLoss * Sigmoid Derivative\n",
    "Errorcomp = DLogLoss(Error) * SigmoidDerivative(OutPrediction)"
   ]
  },
  {
   "cell_type": "code",
   "execution_count": 216,
   "metadata": {},
   "outputs": [
    {
     "data": {
      "text/plain": [
       "array([-0.39254088])"
      ]
     },
     "execution_count": 216,
     "metadata": {},
     "output_type": "execute_result"
    }
   ],
   "source": [
    "Errorcomp"
   ]
  },
  {
   "cell_type": "code",
   "execution_count": 254,
   "metadata": {},
   "outputs": [],
   "source": [
    "#now we back propagate this through the weights\n",
    "grads1 = np.dot(Errorcomp, Layer1out)"
   ]
  },
  {
   "cell_type": "code",
   "execution_count": 255,
   "metadata": {},
   "outputs": [
    {
     "data": {
      "text/plain": [
       "array([-0.3664191 ,  0.39199332,  0.39037112, -0.39254088])"
      ]
     },
     "execution_count": 255,
     "metadata": {},
     "output_type": "execute_result"
    }
   ],
   "source": [
    "grads1"
   ]
  },
  {
   "cell_type": "code",
   "execution_count": 256,
   "metadata": {},
   "outputs": [],
   "source": [
    "#Now to make the change in bias which is the sum of the changes in weights\n",
    "bias1 = sum(grads1)"
   ]
  },
  {
   "cell_type": "code",
   "execution_count": 258,
   "metadata": {},
   "outputs": [
    {
     "data": {
      "text/plain": [
       "0.02340445992664336"
      ]
     },
     "execution_count": 258,
     "metadata": {},
     "output_type": "execute_result"
    }
   ],
   "source": [
    "bias1"
   ]
  },
  {
   "cell_type": "code",
   "execution_count": 168,
   "metadata": {},
   "outputs": [],
   "source": [
    "#next we need to backcast the error into the final layer of weights\n",
    "#for this we will need the differential of the tanh activation function that we used\n",
    "def DTanh(x):\n",
    "    return 1 - np.tanh(x)**2"
   ]
  },
  {
   "cell_type": "code",
   "execution_count": 221,
   "metadata": {},
   "outputs": [],
   "source": [
    "DLayer1 = DTanh(Layer1out)"
   ]
  },
  {
   "cell_type": "code",
   "execution_count": 222,
   "metadata": {},
   "outputs": [
    {
     "data": {
      "text/plain": [
       "array([[0.46388243, 0.42086727, 0.42351974, 0.41997434]])"
      ]
     },
     "execution_count": 222,
     "metadata": {},
     "output_type": "execute_result"
    }
   ],
   "source": [
    "DLayer1"
   ]
  },
  {
   "cell_type": "code",
   "execution_count": 223,
   "metadata": {},
   "outputs": [],
   "source": [
    "#now we multiple this by our change in the last layer or grads 1\n",
    "Dstep1 = DLayer1 * grads1"
   ]
  },
  {
   "cell_type": "code",
   "execution_count": 224,
   "metadata": {},
   "outputs": [
    {
     "data": {
      "text/plain": [
       "array([[-0.30675172,  0.60031292,  0.48947013, -9.12369228]])"
      ]
     },
     "execution_count": 224,
     "metadata": {},
     "output_type": "execute_result"
    }
   ],
   "source": [
    "Dstep1"
   ]
  },
  {
   "cell_type": "code",
   "execution_count": 225,
   "metadata": {},
   "outputs": [],
   "source": [
    "#we have this step which is the error and the differential of layer 1 together we now need to multiply this by the input to get our weights\n",
    "grads2 = np.dot(Input,Dstep1)"
   ]
  },
  {
   "cell_type": "code",
   "execution_count": 226,
   "metadata": {},
   "outputs": [
    {
     "data": {
      "text/plain": [
       "array([[ -3.06751716,   6.00312922,   4.89470129, -91.23692285],\n",
       "       [ -0.30675172,   0.60031292,   0.48947013,  -9.12369228],\n",
       "       [ -1.22700686,   2.40125169,   1.95788052, -36.49476914]])"
      ]
     },
     "execution_count": 226,
     "metadata": {},
     "output_type": "execute_result"
    }
   ],
   "source": [
    "grads2"
   ]
  },
  {
   "cell_type": "code",
   "execution_count": 311,
   "metadata": {},
   "outputs": [],
   "source": [
    "bias2 = sum(sum(grads2))"
   ]
  },
  {
   "cell_type": "code",
   "execution_count": 312,
   "metadata": {},
   "outputs": [
    {
     "data": {
      "text/plain": [
       "-125.10991423501088"
      ]
     },
     "execution_count": 312,
     "metadata": {},
     "output_type": "execute_result"
    }
   ],
   "source": [
    "bias2"
   ]
  },
  {
   "cell_type": "code",
   "execution_count": 230,
   "metadata": {},
   "outputs": [],
   "source": [
    "#now we have our changes in weights and changes in biases we just need to add these to our weights and biases\n",
    "Hidden += grads2\n",
    "OutWeights += grads1\n",
    "BiasHidden += bias2\n",
    "BiasOut += bias1"
   ]
  },
  {
   "cell_type": "markdown",
   "metadata": {},
   "source": [
    "And that is that, we have updated all the weights and biases in one full pass if we run it through again it would hopefully perform better\n",
    "\n",
    "Now we should turn it into a nice function."
   ]
  },
  {
   "cell_type": "code",
   "execution_count": 282,
   "metadata": {},
   "outputs": [],
   "source": [
    "#lets start with a function that creates the network\n",
    "def InitialiseNetwork(Inputsize,HiddenSize,OutSize):\n",
    "    mean = 0\n",
    "    stddev = 3\n",
    "    Hidden = np.array([random.gauss(mean,stddev) for _ in range(Inputsize * HiddenSize)])\n",
    "    Hidden = Hidden.reshape(Inputsize,HiddenSize)\n",
    "    BiasHidden = np.array([random.gauss(mean,stddev) for _ in range(HiddenSize)])\n",
    "    OutWeights = np.array([random.gauss(mean,stddev) for _ in range(HiddenSize * OutSize)])\n",
    "    OutWeights = OutWeights.reshape(OutSize,HiddenSize)\n",
    "    BiasOut = np.array([random.gauss(mean,stddev) for _ in range(OutSize)])\n",
    "    return dict(Hidden = Hidden, BiasHidden = BiasHidden,OutWeights = OutWeights,BiasOut = BiasOut )\n",
    "    \n",
    "                          "
   ]
  },
  {
   "cell_type": "code",
   "execution_count": 283,
   "metadata": {},
   "outputs": [],
   "source": [
    "Net1 = InitialiseNetwork(3,4,1)"
   ]
  },
  {
   "cell_type": "code",
   "execution_count": 284,
   "metadata": {},
   "outputs": [
    {
     "data": {
      "text/plain": [
       "{'Hidden': array([[-2.54669762,  3.49544684,  2.97664393,  2.32692595],\n",
       "        [ 3.97546497,  2.91907559, -2.60520249, -1.2279104 ],\n",
       "        [-3.19311754,  0.84074965, -2.95835329, -2.27202845]]),\n",
       " 'BiasHidden': array([-0.86205824,  3.14574142, -4.05423661, -2.83631578]),\n",
       " 'OutWeights': array([[-1.3685571 ,  4.47570245,  0.1485243 , -0.07813973]]),\n",
       " 'BiasOut': array([1.86184289])}"
      ]
     },
     "execution_count": 284,
     "metadata": {},
     "output_type": "execute_result"
    }
   ],
   "source": [
    "Net1"
   ]
  },
  {
   "cell_type": "code",
   "execution_count": 287,
   "metadata": {},
   "outputs": [],
   "source": [
    "def ForwardPass(Input,Net):\n",
    "    Forward1 = tanh((np.dot(Input.T,Net['Hidden'])) + Net['BiasHidden'])\n",
    "    Forward2 = Sigmoid(np.dot(Forward1,Net['OutWeights'].T)+Net['BiasOut'])\n",
    "    return dict(Forward1 = Forward1, Forward2 = Forward2)\n",
    "    "
   ]
  },
  {
   "cell_type": "code",
   "execution_count": 288,
   "metadata": {},
   "outputs": [],
   "source": [
    "FW1 = ForwardPass(Input,Net1)"
   ]
  },
  {
   "cell_type": "code",
   "execution_count": 289,
   "metadata": {},
   "outputs": [
    {
     "data": {
      "text/plain": [
       "{'Forward1': array([[-1.,  1.,  1.,  1.]]), 'Forward2': array([[0.99958069]])}"
      ]
     },
     "execution_count": 289,
     "metadata": {},
     "output_type": "execute_result"
    }
   ],
   "source": [
    "FW1"
   ]
  },
  {
   "cell_type": "code",
   "execution_count": 303,
   "metadata": {},
   "outputs": [],
   "source": [
    "def BackwardsPass(Input,Forward,Net):\n",
    "    Error = LogLoss(Forward['Forward2'])\n",
    "    Errorcomp = DLogLoss(Forward['Forward2']) * SigmoidDerivative(Forward['Forward2'])\n",
    "    grads1 = Errorcomp * Forward['Forward1']\n",
    "    bias1 = sum(sum(grads1))\n",
    "    grads2 = np.dot(Input,(grads1 * DTanh(Forward['Forward1'])))\n",
    "    bias2 = sum(sum(grads2))\n",
    "    Net['Hidden'] += grads2\n",
    "    Net['BiasHidden'] += bias2\n",
    "    Net['OutWeights'] += grads1\n",
    "    Net['BiasOut'] += bias1\n",
    "    return Net, Error"
   ]
  },
  {
   "cell_type": "code",
   "execution_count": 305,
   "metadata": {},
   "outputs": [],
   "source": [
    "Net2,Err = BackwardsPass(Input,FW1,Net1)"
   ]
  },
  {
   "cell_type": "code",
   "execution_count": 306,
   "metadata": {},
   "outputs": [
    {
     "data": {
      "text/plain": [
       "{'Hidden': array([[-21554.17224042,  21555.12098964,  21554.60219037,\n",
       "          21553.95250553],\n",
       "        [ -2151.18708931,   2158.08162987,   2152.55735215,\n",
       "           2153.93464756],\n",
       "        [ -8623.84333466,   8621.49096677,   8617.69186528,\n",
       "           8618.37820339]]),\n",
       " 'BiasHidden': array([-8082.72162163, 40412.44364933, 40405.24367539, 40406.46163351]),\n",
       " 'OutWeights': array([[-5133.02147189,  5136.12861723,  5131.80143743,  5131.57475832]]),\n",
       " 'BiasOut': array([2567.68829568])}"
      ]
     },
     "execution_count": 306,
     "metadata": {},
     "output_type": "execute_result"
    }
   ],
   "source": [
    "Net2"
   ]
  },
  {
   "cell_type": "code",
   "execution_count": 308,
   "metadata": {},
   "outputs": [
    {
     "data": {
      "text/plain": [
       "array([[0.0004194]])"
      ]
     },
     "execution_count": 308,
     "metadata": {},
     "output_type": "execute_result"
    }
   ],
   "source": [
    "Err"
   ]
  },
  {
   "cell_type": "markdown",
   "metadata": {},
   "source": [
    "There we go if we run this over and over on the same data it will improve\n",
    "\n",
    "Try than now using a for loop:"
   ]
  },
  {
   "cell_type": "code",
   "execution_count": null,
   "metadata": {},
   "outputs": [],
   "source": []
  },
  {
   "cell_type": "code",
   "execution_count": null,
   "metadata": {},
   "outputs": [],
   "source": []
  },
  {
   "cell_type": "code",
   "execution_count": null,
   "metadata": {},
   "outputs": [],
   "source": []
  },
  {
   "cell_type": "code",
   "execution_count": null,
   "metadata": {},
   "outputs": [],
   "source": []
  },
  {
   "cell_type": "code",
   "execution_count": null,
   "metadata": {},
   "outputs": [],
   "source": []
  },
  {
   "cell_type": "code",
   "execution_count": null,
   "metadata": {},
   "outputs": [],
   "source": []
  },
  {
   "cell_type": "code",
   "execution_count": null,
   "metadata": {},
   "outputs": [],
   "source": []
  },
  {
   "cell_type": "code",
   "execution_count": null,
   "metadata": {},
   "outputs": [],
   "source": []
  },
  {
   "cell_type": "code",
   "execution_count": null,
   "metadata": {},
   "outputs": [],
   "source": []
  },
  {
   "cell_type": "markdown",
   "metadata": {},
   "source": [
    "Next thing to do is to make the neural network a class. All the functions are there for you all you need to do is make a class that works with any size:"
   ]
  },
  {
   "cell_type": "code",
   "execution_count": null,
   "metadata": {},
   "outputs": [],
   "source": []
  },
  {
   "cell_type": "code",
   "execution_count": null,
   "metadata": {},
   "outputs": [],
   "source": []
  },
  {
   "cell_type": "code",
   "execution_count": null,
   "metadata": {},
   "outputs": [],
   "source": []
  },
  {
   "cell_type": "code",
   "execution_count": null,
   "metadata": {},
   "outputs": [],
   "source": []
  },
  {
   "cell_type": "code",
   "execution_count": null,
   "metadata": {},
   "outputs": [],
   "source": []
  },
  {
   "cell_type": "code",
   "execution_count": null,
   "metadata": {},
   "outputs": [],
   "source": []
  },
  {
   "cell_type": "code",
   "execution_count": null,
   "metadata": {},
   "outputs": [],
   "source": []
  },
  {
   "cell_type": "markdown",
   "metadata": {},
   "source": [
    "## Task"
   ]
  },
  {
   "cell_type": "markdown",
   "metadata": {},
   "source": [
    "As a final task for this practical we will build a neural network to classify some real world data. You should have two data sets called ForestClass either training or testing. These are real world datasets extracted from satelite images. The class variable is the type of forest that the data is from and the other data are all bandwidth measurements from band 1:9 of satelite images. Build a neural network that will predict the type of forest. For an easy version just try and classify between the two most common types or if you want more of a challenge you can try and classify between all of them, for which you will need the softmax function:"
   ]
  },
  {
   "cell_type": "code",
   "execution_count": 1,
   "metadata": {},
   "outputs": [],
   "source": [
    "#softmax is very much like the sigmoid function but for multiple classes\n",
    "def softmax(x):\n",
    "   #the softmax is defined as e^x-max(x) / sum(e^x-max(x))\n",
    "    e_x = np.exp(x - np.max(x))\n",
    "    #it will return an array that is the softmax of an array the highest value in the softmax is your predicted class\n",
    "    return e_x / e_x.sum(axis = 0)"
   ]
  },
  {
   "cell_type": "code",
   "execution_count": 2,
   "metadata": {},
   "outputs": [],
   "source": [
    "#the softmax derivative is incredibly complicated as it uses a masking jacobian matrix but you will also need it\n",
    "def softmax_dif(s):\n",
    "    #if this isn't working try and transpose your softmax output\n",
    "    jacobian_m = np.diag(s)\n",
    "\n",
    "    for i in range(len(jacobian_m)):\n",
    "        for j in range(len(jacobian_m)):\n",
    "            if i == j:\n",
    "                jacobian_m[i][j] = s[i] * (1-s[i])\n",
    "            else: \n",
    "                jacobian_m[i][j] = -s[i]*s[j]\n",
    "    return jacobian_m"
   ]
  },
  {
   "cell_type": "markdown",
   "metadata": {},
   "source": [
    "Good Luck"
   ]
  },
  {
   "cell_type": "code",
   "execution_count": null,
   "metadata": {},
   "outputs": [],
   "source": []
  },
  {
   "cell_type": "code",
   "execution_count": null,
   "metadata": {},
   "outputs": [],
   "source": []
  },
  {
   "cell_type": "code",
   "execution_count": null,
   "metadata": {},
   "outputs": [],
   "source": []
  },
  {
   "cell_type": "code",
   "execution_count": null,
   "metadata": {},
   "outputs": [],
   "source": []
  },
  {
   "cell_type": "code",
   "execution_count": null,
   "metadata": {},
   "outputs": [],
   "source": []
  },
  {
   "cell_type": "code",
   "execution_count": null,
   "metadata": {},
   "outputs": [],
   "source": []
  },
  {
   "cell_type": "code",
   "execution_count": null,
   "metadata": {},
   "outputs": [],
   "source": []
  }
 ],
 "metadata": {
  "kernelspec": {
   "display_name": "Python 3",
   "language": "python",
   "name": "python3"
  },
  "language_info": {
   "codemirror_mode": {
    "name": "ipython",
    "version": 3
   },
   "file_extension": ".py",
   "mimetype": "text/x-python",
   "name": "python",
   "nbconvert_exporter": "python",
   "pygments_lexer": "ipython3",
   "version": "3.7.1"
  }
 },
 "nbformat": 4,
 "nbformat_minor": 2
}
